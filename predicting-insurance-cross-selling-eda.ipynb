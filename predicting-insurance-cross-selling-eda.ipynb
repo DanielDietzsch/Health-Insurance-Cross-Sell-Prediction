{
 "cells": [
  {
   "cell_type": "markdown",
   "metadata": {
    "papermill": {
     "duration": 0.045464,
     "end_time": "2020-09-17T07:12:23.577038",
     "exception": false,
     "start_time": "2020-09-17T07:12:23.531574",
     "status": "completed"
    },
    "tags": []
   },
   "source": [
    "<h1 style=\"text-align:center\">Health Insurance Cross Sell Prediction</h1>"
   ]
  },
  {
   "cell_type": "markdown",
   "metadata": {
    "papermill": {
     "duration": 0.041747,
     "end_time": "2020-09-17T07:12:23.661551",
     "exception": false,
     "start_time": "2020-09-17T07:12:23.619804",
     "status": "completed"
    },
    "tags": []
   },
   "source": [
    "<div style=\"text-align:center;\"><img src=\"https://images.unsplash.com/photo-1570042707390-2e011141ab78?ixlib=rb-1.2.1&ixid=eyJhcHBfaWQiOjEyMDd9&auto=format&fit=crop&w=1789&q=80\" /></div>"
   ]
  },
  {
   "cell_type": "markdown",
   "metadata": {
    "papermill": {
     "duration": 0.041506,
     "end_time": "2020-09-17T07:12:23.745914",
     "exception": false,
     "start_time": "2020-09-17T07:12:23.704408",
     "status": "completed"
    },
    "tags": []
   },
   "source": [
    "**Context:** \n",
    "> Our client is an Insurance company that has provided Health Insurance to its customers now they need your help in building a model to predict whether the policyholders (customers) from past year will also be interested in Vehicle Insurance provided by the company.\n",
    "\n",
    "**About the Data:**\n",
    "* id:\tUnique ID for the customer\n",
    "* Gender:\tGender of the customer\n",
    "* Age:\tAge of the customer\n",
    "* Driving_License:\n",
    "   * 0 : Customer does not have DL \n",
    "   * 1 : Customer already has DL\n",
    "* Region_Code:\tUnique code for the region of the customer\n",
    "* Previously_Insured:\n",
    "   * 1 : Customer already has Vehicle Insurance \n",
    "   * 0 : Customer doesn't have Vehicle Insurance\n",
    "* Vehicle_Age:\tAge of the Vehicle\n",
    "* Vehicle_Damage:\n",
    "   * 1 : Customer got his/her vehicle damaged in the past. \n",
    "   * 0 : Customer didn't get his/her vehicle damaged in the past.\n",
    "* Annual_Premium:\tThe amount customer needs to pay as premium in the year\n",
    "* PolicySalesChannel:\tAnonymized Code for the channel of outreaching to the customer ie. Different Agents, Over Mail, Over Phone, In Person, etc.\n",
    "* Vintage:\tNumber of Days, Customer has been associated with the company\n",
    "* Response:\n",
    "   * 1 : Customer is interested \n",
    "   * 0 : Customer is not interested"
   ]
  },
  {
   "cell_type": "markdown",
   "metadata": {
    "papermill": {
     "duration": 0.04226,
     "end_time": "2020-09-17T07:12:23.830239",
     "exception": false,
     "start_time": "2020-09-17T07:12:23.787979",
     "status": "completed"
    },
    "tags": []
   },
   "source": [
    "## Imports"
   ]
  },
  {
   "cell_type": "code",
   "execution_count": 1,
   "metadata": {
    "execution": {
     "iopub.execute_input": "2020-09-17T07:12:23.929891Z",
     "iopub.status.busy": "2020-09-17T07:12:23.929170Z",
     "iopub.status.idle": "2020-09-17T07:12:25.348397Z",
     "shell.execute_reply": "2020-09-17T07:12:25.347619Z"
    },
    "papermill": {
     "duration": 1.476008,
     "end_time": "2020-09-17T07:12:25.348543",
     "exception": false,
     "start_time": "2020-09-17T07:12:23.872535",
     "status": "completed"
    },
    "tags": []
   },
   "outputs": [],
   "source": [
    "# Data Processing\n",
    "import numpy as np \n",
    "import pandas as pd \n",
    "\n",
    "# Data Visualization\n",
    "import matplotlib.pyplot as plt\n",
    "%matplotlib inline\n",
    "import seaborn as sns\n",
    "\n",
    "# Modeling\n",
    "from sklearn.model_selection import train_test_split\n",
    "\n",
    "from sklearn.linear_model import SGDClassifier\n",
    "\n",
    "from sklearn.neighbors import KNeighborsClassifier\n",
    "from sklearn.svm import SVC\n",
    "from sklearn.tree import DecisionTreeClassifier\n",
    "from sklearn.ensemble import RandomForestClassifier, AdaBoostClassifier, GradientBoostingClassifier\n",
    "from sklearn.naive_bayes import GaussianNB\n",
    "from sklearn.discriminant_analysis import LinearDiscriminantAnalysis, QuadraticDiscriminantAnalysis\n",
    "from sklearn.linear_model import LogisticRegression\n",
    "\n",
    "\n",
    "from sklearn.metrics import roc_auc_score"
   ]
  },
  {
   "cell_type": "markdown",
   "metadata": {
    "papermill": {
     "duration": 0.041654,
     "end_time": "2020-09-17T07:12:25.432932",
     "exception": false,
     "start_time": "2020-09-17T07:12:25.391278",
     "status": "completed"
    },
    "tags": []
   },
   "source": [
    "# Exploratory Data Analysis"
   ]
  },
  {
   "cell_type": "code",
   "execution_count": 2,
   "metadata": {
    "execution": {
     "iopub.execute_input": "2020-09-17T07:12:25.529508Z",
     "iopub.status.busy": "2020-09-17T07:12:25.528613Z",
     "iopub.status.idle": "2020-09-17T07:12:26.303620Z",
     "shell.execute_reply": "2020-09-17T07:12:26.302776Z"
    },
    "papermill": {
     "duration": 0.828819,
     "end_time": "2020-09-17T07:12:26.303785",
     "exception": false,
     "start_time": "2020-09-17T07:12:25.474966",
     "status": "completed"
    },
    "tags": []
   },
   "outputs": [],
   "source": [
    "df_train = pd.read_csv('/kaggle/input/health-insurance-cross-sell-prediction/train.csv')\n",
    "df_test = pd.read_csv('/kaggle/input/health-insurance-cross-sell-prediction/test.csv')"
   ]
  },
  {
   "cell_type": "code",
   "execution_count": 3,
   "metadata": {
    "_cell_guid": "b1076dfc-b9ad-4769-8c92-a6c4dae69d19",
    "_uuid": "8f2839f25d086af736a60e9eeb907d3b93b6e0e5",
    "execution": {
     "iopub.execute_input": "2020-09-17T07:12:26.407901Z",
     "iopub.status.busy": "2020-09-17T07:12:26.407026Z",
     "iopub.status.idle": "2020-09-17T07:12:26.420451Z",
     "shell.execute_reply": "2020-09-17T07:12:26.419868Z"
    },
    "papermill": {
     "duration": 0.074473,
     "end_time": "2020-09-17T07:12:26.420580",
     "exception": false,
     "start_time": "2020-09-17T07:12:26.346107",
     "status": "completed"
    },
    "tags": []
   },
   "outputs": [
    {
     "data": {
      "text/html": [
       "<div>\n",
       "<style scoped>\n",
       "    .dataframe tbody tr th:only-of-type {\n",
       "        vertical-align: middle;\n",
       "    }\n",
       "\n",
       "    .dataframe tbody tr th {\n",
       "        vertical-align: top;\n",
       "    }\n",
       "\n",
       "    .dataframe thead th {\n",
       "        text-align: right;\n",
       "    }\n",
       "</style>\n",
       "<table border=\"1\" class=\"dataframe\">\n",
       "  <thead>\n",
       "    <tr style=\"text-align: right;\">\n",
       "      <th></th>\n",
       "      <th>id</th>\n",
       "      <th>Gender</th>\n",
       "      <th>Age</th>\n",
       "      <th>Driving_License</th>\n",
       "      <th>Region_Code</th>\n",
       "      <th>Previously_Insured</th>\n",
       "      <th>Vehicle_Age</th>\n",
       "      <th>Vehicle_Damage</th>\n",
       "      <th>Annual_Premium</th>\n",
       "      <th>Policy_Sales_Channel</th>\n",
       "      <th>Vintage</th>\n",
       "      <th>Response</th>\n",
       "    </tr>\n",
       "  </thead>\n",
       "  <tbody>\n",
       "    <tr>\n",
       "      <th>0</th>\n",
       "      <td>1</td>\n",
       "      <td>Male</td>\n",
       "      <td>44</td>\n",
       "      <td>1</td>\n",
       "      <td>28.0</td>\n",
       "      <td>0</td>\n",
       "      <td>&gt; 2 Years</td>\n",
       "      <td>Yes</td>\n",
       "      <td>40454.0</td>\n",
       "      <td>26.0</td>\n",
       "      <td>217</td>\n",
       "      <td>1</td>\n",
       "    </tr>\n",
       "    <tr>\n",
       "      <th>1</th>\n",
       "      <td>2</td>\n",
       "      <td>Male</td>\n",
       "      <td>76</td>\n",
       "      <td>1</td>\n",
       "      <td>3.0</td>\n",
       "      <td>0</td>\n",
       "      <td>1-2 Year</td>\n",
       "      <td>No</td>\n",
       "      <td>33536.0</td>\n",
       "      <td>26.0</td>\n",
       "      <td>183</td>\n",
       "      <td>0</td>\n",
       "    </tr>\n",
       "    <tr>\n",
       "      <th>2</th>\n",
       "      <td>3</td>\n",
       "      <td>Male</td>\n",
       "      <td>47</td>\n",
       "      <td>1</td>\n",
       "      <td>28.0</td>\n",
       "      <td>0</td>\n",
       "      <td>&gt; 2 Years</td>\n",
       "      <td>Yes</td>\n",
       "      <td>38294.0</td>\n",
       "      <td>26.0</td>\n",
       "      <td>27</td>\n",
       "      <td>1</td>\n",
       "    </tr>\n",
       "    <tr>\n",
       "      <th>3</th>\n",
       "      <td>4</td>\n",
       "      <td>Male</td>\n",
       "      <td>21</td>\n",
       "      <td>1</td>\n",
       "      <td>11.0</td>\n",
       "      <td>1</td>\n",
       "      <td>&lt; 1 Year</td>\n",
       "      <td>No</td>\n",
       "      <td>28619.0</td>\n",
       "      <td>152.0</td>\n",
       "      <td>203</td>\n",
       "      <td>0</td>\n",
       "    </tr>\n",
       "    <tr>\n",
       "      <th>4</th>\n",
       "      <td>5</td>\n",
       "      <td>Female</td>\n",
       "      <td>29</td>\n",
       "      <td>1</td>\n",
       "      <td>41.0</td>\n",
       "      <td>1</td>\n",
       "      <td>&lt; 1 Year</td>\n",
       "      <td>No</td>\n",
       "      <td>27496.0</td>\n",
       "      <td>152.0</td>\n",
       "      <td>39</td>\n",
       "      <td>0</td>\n",
       "    </tr>\n",
       "  </tbody>\n",
       "</table>\n",
       "</div>"
      ],
      "text/plain": [
       "   id  Gender  Age  Driving_License  Region_Code  Previously_Insured  \\\n",
       "0   1    Male   44                1         28.0                   0   \n",
       "1   2    Male   76                1          3.0                   0   \n",
       "2   3    Male   47                1         28.0                   0   \n",
       "3   4    Male   21                1         11.0                   1   \n",
       "4   5  Female   29                1         41.0                   1   \n",
       "\n",
       "  Vehicle_Age Vehicle_Damage  Annual_Premium  Policy_Sales_Channel  Vintage  \\\n",
       "0   > 2 Years            Yes         40454.0                  26.0      217   \n",
       "1    1-2 Year             No         33536.0                  26.0      183   \n",
       "2   > 2 Years            Yes         38294.0                  26.0       27   \n",
       "3    < 1 Year             No         28619.0                 152.0      203   \n",
       "4    < 1 Year             No         27496.0                 152.0       39   \n",
       "\n",
       "   Response  \n",
       "0         1  \n",
       "1         0  \n",
       "2         1  \n",
       "3         0  \n",
       "4         0  "
      ]
     },
     "execution_count": 3,
     "metadata": {},
     "output_type": "execute_result"
    }
   ],
   "source": [
    "df_train.head()"
   ]
  },
  {
   "cell_type": "code",
   "execution_count": 4,
   "metadata": {
    "_cell_guid": "79c7e3d0-c299-4dcb-8224-4455121ee9b0",
    "_uuid": "d629ff2d2480ee46fbb7e2d37f6b5fab8052498a",
    "execution": {
     "iopub.execute_input": "2020-09-17T07:12:26.524590Z",
     "iopub.status.busy": "2020-09-17T07:12:26.523832Z",
     "iopub.status.idle": "2020-09-17T07:12:26.528838Z",
     "shell.execute_reply": "2020-09-17T07:12:26.529356Z"
    },
    "papermill": {
     "duration": 0.065775,
     "end_time": "2020-09-17T07:12:26.529517",
     "exception": false,
     "start_time": "2020-09-17T07:12:26.463742",
     "status": "completed"
    },
    "tags": []
   },
   "outputs": [
    {
     "data": {
      "text/html": [
       "<div>\n",
       "<style scoped>\n",
       "    .dataframe tbody tr th:only-of-type {\n",
       "        vertical-align: middle;\n",
       "    }\n",
       "\n",
       "    .dataframe tbody tr th {\n",
       "        vertical-align: top;\n",
       "    }\n",
       "\n",
       "    .dataframe thead th {\n",
       "        text-align: right;\n",
       "    }\n",
       "</style>\n",
       "<table border=\"1\" class=\"dataframe\">\n",
       "  <thead>\n",
       "    <tr style=\"text-align: right;\">\n",
       "      <th></th>\n",
       "      <th>id</th>\n",
       "      <th>Gender</th>\n",
       "      <th>Age</th>\n",
       "      <th>Driving_License</th>\n",
       "      <th>Region_Code</th>\n",
       "      <th>Previously_Insured</th>\n",
       "      <th>Vehicle_Age</th>\n",
       "      <th>Vehicle_Damage</th>\n",
       "      <th>Annual_Premium</th>\n",
       "      <th>Policy_Sales_Channel</th>\n",
       "      <th>Vintage</th>\n",
       "    </tr>\n",
       "  </thead>\n",
       "  <tbody>\n",
       "    <tr>\n",
       "      <th>0</th>\n",
       "      <td>381110</td>\n",
       "      <td>Male</td>\n",
       "      <td>25</td>\n",
       "      <td>1</td>\n",
       "      <td>11.0</td>\n",
       "      <td>1</td>\n",
       "      <td>&lt; 1 Year</td>\n",
       "      <td>No</td>\n",
       "      <td>35786.0</td>\n",
       "      <td>152.0</td>\n",
       "      <td>53</td>\n",
       "    </tr>\n",
       "    <tr>\n",
       "      <th>1</th>\n",
       "      <td>381111</td>\n",
       "      <td>Male</td>\n",
       "      <td>40</td>\n",
       "      <td>1</td>\n",
       "      <td>28.0</td>\n",
       "      <td>0</td>\n",
       "      <td>1-2 Year</td>\n",
       "      <td>Yes</td>\n",
       "      <td>33762.0</td>\n",
       "      <td>7.0</td>\n",
       "      <td>111</td>\n",
       "    </tr>\n",
       "    <tr>\n",
       "      <th>2</th>\n",
       "      <td>381112</td>\n",
       "      <td>Male</td>\n",
       "      <td>47</td>\n",
       "      <td>1</td>\n",
       "      <td>28.0</td>\n",
       "      <td>0</td>\n",
       "      <td>1-2 Year</td>\n",
       "      <td>Yes</td>\n",
       "      <td>40050.0</td>\n",
       "      <td>124.0</td>\n",
       "      <td>199</td>\n",
       "    </tr>\n",
       "    <tr>\n",
       "      <th>3</th>\n",
       "      <td>381113</td>\n",
       "      <td>Male</td>\n",
       "      <td>24</td>\n",
       "      <td>1</td>\n",
       "      <td>27.0</td>\n",
       "      <td>1</td>\n",
       "      <td>&lt; 1 Year</td>\n",
       "      <td>Yes</td>\n",
       "      <td>37356.0</td>\n",
       "      <td>152.0</td>\n",
       "      <td>187</td>\n",
       "    </tr>\n",
       "    <tr>\n",
       "      <th>4</th>\n",
       "      <td>381114</td>\n",
       "      <td>Male</td>\n",
       "      <td>27</td>\n",
       "      <td>1</td>\n",
       "      <td>28.0</td>\n",
       "      <td>1</td>\n",
       "      <td>&lt; 1 Year</td>\n",
       "      <td>No</td>\n",
       "      <td>59097.0</td>\n",
       "      <td>152.0</td>\n",
       "      <td>297</td>\n",
       "    </tr>\n",
       "  </tbody>\n",
       "</table>\n",
       "</div>"
      ],
      "text/plain": [
       "       id Gender  Age  Driving_License  Region_Code  Previously_Insured  \\\n",
       "0  381110   Male   25                1         11.0                   1   \n",
       "1  381111   Male   40                1         28.0                   0   \n",
       "2  381112   Male   47                1         28.0                   0   \n",
       "3  381113   Male   24                1         27.0                   1   \n",
       "4  381114   Male   27                1         28.0                   1   \n",
       "\n",
       "  Vehicle_Age Vehicle_Damage  Annual_Premium  Policy_Sales_Channel  Vintage  \n",
       "0    < 1 Year             No         35786.0                 152.0       53  \n",
       "1    1-2 Year            Yes         33762.0                   7.0      111  \n",
       "2    1-2 Year            Yes         40050.0                 124.0      199  \n",
       "3    < 1 Year            Yes         37356.0                 152.0      187  \n",
       "4    < 1 Year             No         59097.0                 152.0      297  "
      ]
     },
     "execution_count": 4,
     "metadata": {},
     "output_type": "execute_result"
    }
   ],
   "source": [
    "df_test.head()"
   ]
  },
  {
   "cell_type": "markdown",
   "metadata": {
    "papermill": {
     "duration": 0.043446,
     "end_time": "2020-09-17T07:12:26.616416",
     "exception": false,
     "start_time": "2020-09-17T07:12:26.572970",
     "status": "completed"
    },
    "tags": []
   },
   "source": [
    "The `id` column is unecessary. Let's drop it for `df_train` and `df_test`."
   ]
  },
  {
   "cell_type": "code",
   "execution_count": 5,
   "metadata": {
    "execution": {
     "iopub.execute_input": "2020-09-17T07:12:26.718652Z",
     "iopub.status.busy": "2020-09-17T07:12:26.717144Z",
     "iopub.status.idle": "2020-09-17T07:12:26.755020Z",
     "shell.execute_reply": "2020-09-17T07:12:26.754277Z"
    },
    "papermill": {
     "duration": 0.094138,
     "end_time": "2020-09-17T07:12:26.755144",
     "exception": false,
     "start_time": "2020-09-17T07:12:26.661006",
     "status": "completed"
    },
    "tags": []
   },
   "outputs": [],
   "source": [
    "df_train = df_train.drop(['id'], axis=1)\n",
    "df_test = df_test.drop(['id'], axis=1)"
   ]
  },
  {
   "cell_type": "markdown",
   "metadata": {
    "papermill": {
     "duration": 0.043169,
     "end_time": "2020-09-17T07:12:26.842284",
     "exception": false,
     "start_time": "2020-09-17T07:12:26.799115",
     "status": "completed"
    },
    "tags": []
   },
   "source": [
    "Let's check for NaN values:"
   ]
  },
  {
   "cell_type": "code",
   "execution_count": 6,
   "metadata": {
    "execution": {
     "iopub.execute_input": "2020-09-17T07:12:27.053851Z",
     "iopub.status.busy": "2020-09-17T07:12:27.053084Z",
     "iopub.status.idle": "2020-09-17T07:12:27.077900Z",
     "shell.execute_reply": "2020-09-17T07:12:27.077144Z"
    },
    "papermill": {
     "duration": 0.192356,
     "end_time": "2020-09-17T07:12:27.078031",
     "exception": false,
     "start_time": "2020-09-17T07:12:26.885675",
     "status": "completed"
    },
    "tags": []
   },
   "outputs": [
    {
     "data": {
      "text/plain": [
       "Gender                  0\n",
       "Age                     0\n",
       "Driving_License         0\n",
       "Region_Code             0\n",
       "Previously_Insured      0\n",
       "Vehicle_Age             0\n",
       "Vehicle_Damage          0\n",
       "Annual_Premium          0\n",
       "Policy_Sales_Channel    0\n",
       "Vintage                 0\n",
       "Response                0\n",
       "dtype: int64"
      ]
     },
     "execution_count": 6,
     "metadata": {},
     "output_type": "execute_result"
    }
   ],
   "source": [
    "df_train.isna().sum()"
   ]
  },
  {
   "cell_type": "code",
   "execution_count": 7,
   "metadata": {
    "execution": {
     "iopub.execute_input": "2020-09-17T07:12:27.212935Z",
     "iopub.status.busy": "2020-09-17T07:12:27.212165Z",
     "iopub.status.idle": "2020-09-17T07:12:27.223279Z",
     "shell.execute_reply": "2020-09-17T07:12:27.222721Z"
    },
    "papermill": {
     "duration": 0.101081,
     "end_time": "2020-09-17T07:12:27.223529",
     "exception": false,
     "start_time": "2020-09-17T07:12:27.122448",
     "status": "completed"
    },
    "tags": []
   },
   "outputs": [
    {
     "data": {
      "text/plain": [
       "Gender                  0\n",
       "Age                     0\n",
       "Driving_License         0\n",
       "Region_Code             0\n",
       "Previously_Insured      0\n",
       "Vehicle_Age             0\n",
       "Vehicle_Damage          0\n",
       "Annual_Premium          0\n",
       "Policy_Sales_Channel    0\n",
       "Vintage                 0\n",
       "dtype: int64"
      ]
     },
     "execution_count": 7,
     "metadata": {},
     "output_type": "execute_result"
    }
   ],
   "source": [
    "df_test.isna().sum()"
   ]
  },
  {
   "cell_type": "markdown",
   "metadata": {
    "papermill": {
     "duration": 0.045281,
     "end_time": "2020-09-17T07:12:27.314330",
     "exception": false,
     "start_time": "2020-09-17T07:12:27.269049",
     "status": "completed"
    },
    "tags": []
   },
   "source": [
    "We do not have any. That's great!"
   ]
  },
  {
   "cell_type": "markdown",
   "metadata": {
    "papermill": {
     "duration": 0.044441,
     "end_time": "2020-09-17T07:12:27.404029",
     "exception": false,
     "start_time": "2020-09-17T07:12:27.359588",
     "status": "completed"
    },
    "tags": []
   },
   "source": [
    "### Target Value - Response"
   ]
  },
  {
   "cell_type": "code",
   "execution_count": 8,
   "metadata": {
    "execution": {
     "iopub.execute_input": "2020-09-17T07:12:27.503227Z",
     "iopub.status.busy": "2020-09-17T07:12:27.502500Z",
     "iopub.status.idle": "2020-09-17T07:12:27.511532Z",
     "shell.execute_reply": "2020-09-17T07:12:27.510913Z"
    },
    "papermill": {
     "duration": 0.059198,
     "end_time": "2020-09-17T07:12:27.511664",
     "exception": false,
     "start_time": "2020-09-17T07:12:27.452466",
     "status": "completed"
    },
    "tags": []
   },
   "outputs": [
    {
     "data": {
      "text/plain": [
       "0    334399\n",
       "1     46710\n",
       "Name: Response, dtype: int64"
      ]
     },
     "execution_count": 8,
     "metadata": {},
     "output_type": "execute_result"
    }
   ],
   "source": [
    "df_train['Response'].value_counts()"
   ]
  },
  {
   "cell_type": "code",
   "execution_count": 9,
   "metadata": {
    "_kg_hide-input": true,
    "execution": {
     "iopub.execute_input": "2020-09-17T07:12:27.611808Z",
     "iopub.status.busy": "2020-09-17T07:12:27.611007Z",
     "iopub.status.idle": "2020-09-17T07:12:27.818391Z",
     "shell.execute_reply": "2020-09-17T07:12:27.817707Z"
    },
    "papermill": {
     "duration": 0.261674,
     "end_time": "2020-09-17T07:12:27.818521",
     "exception": false,
     "start_time": "2020-09-17T07:12:27.556847",
     "status": "completed"
    },
    "tags": []
   },
   "outputs": [
    {
     "data": {
      "image/png": "[encoded data removed]",
      "text/plain": [
       "<Figure size 432x288 with 1 Axes>"
      ]
     },
     "metadata": {
      "needs_background": "light"
     },
     "output_type": "display_data"
    }
   ],
   "source": [
    "b = sns.countplot(x='Response', data=df_train)\n",
    "b.set_title(\"Response distribution\", fontsize=15)\n",
    "b.set_xlabel(\"Response\", fontsize=15)\n",
    "b.set_ylabel(\"Count\", fontsize=15);"
   ]
  },
  {
   "cell_type": "markdown",
   "metadata": {
    "papermill": {
     "duration": 0.046888,
     "end_time": "2020-09-17T07:12:27.917533",
     "exception": false,
     "start_time": "2020-09-17T07:12:27.870645",
     "status": "completed"
    },
    "tags": []
   },
   "source": [
    "We have a lot more customers that are not interested."
   ]
  },
  {
   "cell_type": "markdown",
   "metadata": {
    "papermill": {
     "duration": 0.046506,
     "end_time": "2020-09-17T07:12:28.010448",
     "exception": false,
     "start_time": "2020-09-17T07:12:27.963942",
     "status": "completed"
    },
    "tags": []
   },
   "source": [
    "### Gender"
   ]
  },
  {
   "cell_type": "code",
   "execution_count": 10,
   "metadata": {
    "execution": {
     "iopub.execute_input": "2020-09-17T07:12:28.210042Z",
     "iopub.status.busy": "2020-09-17T07:12:28.205261Z",
     "iopub.status.idle": "2020-09-17T07:12:28.213624Z",
     "shell.execute_reply": "2020-09-17T07:12:28.214123Z"
    },
    "papermill": {
     "duration": 0.157768,
     "end_time": "2020-09-17T07:12:28.214300",
     "exception": false,
     "start_time": "2020-09-17T07:12:28.056532",
     "status": "completed"
    },
    "tags": []
   },
   "outputs": [
    {
     "data": {
      "text/plain": [
       "Male      206089\n",
       "Female    175020\n",
       "Name: Gender, dtype: int64"
      ]
     },
     "execution_count": 10,
     "metadata": {},
     "output_type": "execute_result"
    }
   ],
   "source": [
    "df_train['Gender'].value_counts()"
   ]
  },
  {
   "cell_type": "code",
   "execution_count": 11,
   "metadata": {
    "_kg_hide-input": true,
    "execution": {
     "iopub.execute_input": "2020-09-17T07:12:28.317675Z",
     "iopub.status.busy": "2020-09-17T07:12:28.316483Z",
     "iopub.status.idle": "2020-09-17T07:12:28.686979Z",
     "shell.execute_reply": "2020-09-17T07:12:28.687601Z"
    },
    "papermill": {
     "duration": 0.426902,
     "end_time": "2020-09-17T07:12:28.687775",
     "exception": false,
     "start_time": "2020-09-17T07:12:28.260873",
     "status": "completed"
    },
    "tags": []
   },
   "outputs": [
    {
     "data": {
      "image/png": "[encoded data removed]",
      "text/plain": [
       "<Figure size 720x432 with 1 Axes>"
      ]
     },
     "metadata": {
      "needs_background": "light"
     },
     "output_type": "display_data"
    }
   ],
   "source": [
    "pd.crosstab(df_train['Response'], df_train['Gender']).plot(kind=\"bar\", figsize=(10,6), color=[\"salmon\", \"lightblue\"])\n",
    "\n",
    "plt.title(\"Response distribution for Gender\")\n",
    "plt.xlabel(\"0 = Customer is Not interested, 1 = Customer is interested\")\n",
    "plt.ylabel(\"Amount\")\n",
    "plt.legend([\"Female\", \"Male\"])\n",
    "plt.xticks(rotation=0);"
   ]
  },
  {
   "cell_type": "markdown",
   "metadata": {
    "papermill": {
     "duration": 0.0479,
     "end_time": "2020-09-17T07:12:28.794355",
     "exception": false,
     "start_time": "2020-09-17T07:12:28.746455",
     "status": "completed"
    },
    "tags": []
   },
   "source": [
    "Both genders seem to be pretty similar in their response."
   ]
  },
  {
   "cell_type": "markdown",
   "metadata": {
    "papermill": {
     "duration": 0.047634,
     "end_time": "2020-09-17T07:12:28.889798",
     "exception": false,
     "start_time": "2020-09-17T07:12:28.842164",
     "status": "completed"
    },
    "tags": []
   },
   "source": [
    "### Driving_License"
   ]
  },
  {
   "cell_type": "code",
   "execution_count": 12,
   "metadata": {
    "execution": {
     "iopub.execute_input": "2020-09-17T07:12:28.992107Z",
     "iopub.status.busy": "2020-09-17T07:12:28.991436Z",
     "iopub.status.idle": "2020-09-17T07:12:29.000389Z",
     "shell.execute_reply": "2020-09-17T07:12:29.001119Z"
    },
    "papermill": {
     "duration": 0.062654,
     "end_time": "2020-09-17T07:12:29.001309",
     "exception": false,
     "start_time": "2020-09-17T07:12:28.938655",
     "status": "completed"
    },
    "tags": []
   },
   "outputs": [
    {
     "data": {
      "text/plain": [
       "1    380297\n",
       "0       812\n",
       "Name: Driving_License, dtype: int64"
      ]
     },
     "execution_count": 12,
     "metadata": {},
     "output_type": "execute_result"
    }
   ],
   "source": [
    "df_train['Driving_License'].value_counts()"
   ]
  },
  {
   "cell_type": "markdown",
   "metadata": {
    "papermill": {
     "duration": 0.047856,
     "end_time": "2020-09-17T07:12:29.097383",
     "exception": false,
     "start_time": "2020-09-17T07:12:29.049527",
     "status": "completed"
    },
    "tags": []
   },
   "source": [
    "There are only a small number of people with no driving license. This might mess up our models. Therefore, we should get drop `Driving_License` for now."
   ]
  },
  {
   "cell_type": "code",
   "execution_count": 13,
   "metadata": {
    "execution": {
     "iopub.execute_input": "2020-09-17T07:12:29.204612Z",
     "iopub.status.busy": "2020-09-17T07:12:29.203477Z",
     "iopub.status.idle": "2020-09-17T07:12:29.246507Z",
     "shell.execute_reply": "2020-09-17T07:12:29.247021Z"
    },
    "papermill": {
     "duration": 0.101512,
     "end_time": "2020-09-17T07:12:29.247219",
     "exception": false,
     "start_time": "2020-09-17T07:12:29.145707",
     "status": "completed"
    },
    "tags": []
   },
   "outputs": [],
   "source": [
    "df_train = df_train.drop(\"Driving_License\", axis=1)\n",
    "df_test = df_test.drop(\"Driving_License\", axis=1)"
   ]
  },
  {
   "cell_type": "markdown",
   "metadata": {
    "papermill": {
     "duration": 0.048143,
     "end_time": "2020-09-17T07:12:29.344478",
     "exception": false,
     "start_time": "2020-09-17T07:12:29.296335",
     "status": "completed"
    },
    "tags": []
   },
   "source": [
    "### Region_Code"
   ]
  },
  {
   "cell_type": "code",
   "execution_count": 14,
   "metadata": {
    "_kg_hide-input": true,
    "execution": {
     "iopub.execute_input": "2020-09-17T07:12:29.448246Z",
     "iopub.status.busy": "2020-09-17T07:12:29.447257Z",
     "iopub.status.idle": "2020-09-17T07:12:29.891614Z",
     "shell.execute_reply": "2020-09-17T07:12:29.890929Z"
    },
    "papermill": {
     "duration": 0.499212,
     "end_time": "2020-09-17T07:12:29.891740",
     "exception": false,
     "start_time": "2020-09-17T07:12:29.392528",
     "status": "completed"
    },
    "tags": []
   },
   "outputs": [
    {
     "data": {
      "image/png": "[encoded data removed]",
      "text/plain": [
       "<Figure size 1440x720 with 1 Axes>"
      ]
     },
     "metadata": {
      "needs_background": "light"
     },
     "output_type": "display_data"
    }
   ],
   "source": [
    "df_train['Region_Code'].value_counts().head(30).plot(kind='barh', figsize=(20,10), title=\"Region_Code distribution in df_train\");"
   ]
  },
  {
   "cell_type": "markdown",
   "metadata": {
    "papermill": {
     "duration": 0.049061,
     "end_time": "2020-09-17T07:12:29.990479",
     "exception": false,
     "start_time": "2020-09-17T07:12:29.941418",
     "status": "completed"
    },
    "tags": []
   },
   "source": [
    "### Previously_Insured"
   ]
  },
  {
   "cell_type": "code",
   "execution_count": 15,
   "metadata": {
    "execution": {
     "iopub.execute_input": "2020-09-17T07:12:30.095839Z",
     "iopub.status.busy": "2020-09-17T07:12:30.094812Z",
     "iopub.status.idle": "2020-09-17T07:12:30.103968Z",
     "shell.execute_reply": "2020-09-17T07:12:30.104448Z"
    },
    "papermill": {
     "duration": 0.06457,
     "end_time": "2020-09-17T07:12:30.104620",
     "exception": false,
     "start_time": "2020-09-17T07:12:30.040050",
     "status": "completed"
    },
    "tags": []
   },
   "outputs": [
    {
     "data": {
      "text/plain": [
       "0    206481\n",
       "1    174628\n",
       "Name: Previously_Insured, dtype: int64"
      ]
     },
     "execution_count": 15,
     "metadata": {},
     "output_type": "execute_result"
    }
   ],
   "source": [
    "df_train['Previously_Insured'].value_counts()"
   ]
  },
  {
   "cell_type": "code",
   "execution_count": 16,
   "metadata": {
    "execution": {
     "iopub.execute_input": "2020-09-17T07:12:30.213635Z",
     "iopub.status.busy": "2020-09-17T07:12:30.212362Z",
     "iopub.status.idle": "2020-09-17T07:12:30.285833Z",
     "shell.execute_reply": "2020-09-17T07:12:30.285071Z"
    },
    "papermill": {
     "duration": 0.131162,
     "end_time": "2020-09-17T07:12:30.285968",
     "exception": false,
     "start_time": "2020-09-17T07:12:30.154806",
     "status": "completed"
    },
    "tags": []
   },
   "outputs": [
    {
     "data": {
      "text/html": [
       "<div>\n",
       "<style scoped>\n",
       "    .dataframe tbody tr th:only-of-type {\n",
       "        vertical-align: middle;\n",
       "    }\n",
       "\n",
       "    .dataframe tbody tr th {\n",
       "        vertical-align: top;\n",
       "    }\n",
       "\n",
       "    .dataframe thead th {\n",
       "        text-align: right;\n",
       "    }\n",
       "</style>\n",
       "<table border=\"1\" class=\"dataframe\">\n",
       "  <thead>\n",
       "    <tr style=\"text-align: right;\">\n",
       "      <th>Previously_Insured</th>\n",
       "      <th>0</th>\n",
       "      <th>1</th>\n",
       "    </tr>\n",
       "    <tr>\n",
       "      <th>Response</th>\n",
       "      <th></th>\n",
       "      <th></th>\n",
       "    </tr>\n",
       "  </thead>\n",
       "  <tbody>\n",
       "    <tr>\n",
       "      <th>0</th>\n",
       "      <td>159929</td>\n",
       "      <td>174470</td>\n",
       "    </tr>\n",
       "    <tr>\n",
       "      <th>1</th>\n",
       "      <td>46552</td>\n",
       "      <td>158</td>\n",
       "    </tr>\n",
       "  </tbody>\n",
       "</table>\n",
       "</div>"
      ],
      "text/plain": [
       "Previously_Insured       0       1\n",
       "Response                          \n",
       "0                   159929  174470\n",
       "1                    46552     158"
      ]
     },
     "execution_count": 16,
     "metadata": {},
     "output_type": "execute_result"
    }
   ],
   "source": [
    "pd.crosstab(df_train['Response'], df_train['Previously_Insured'])"
   ]
  },
  {
   "cell_type": "code",
   "execution_count": 17,
   "metadata": {
    "_kg_hide-input": true,
    "execution": {
     "iopub.execute_input": "2020-09-17T07:12:30.410985Z",
     "iopub.status.busy": "2020-09-17T07:12:30.409595Z",
     "iopub.status.idle": "2020-09-17T07:12:30.656644Z",
     "shell.execute_reply": "2020-09-17T07:12:30.657363Z"
    },
    "papermill": {
     "duration": 0.314273,
     "end_time": "2020-09-17T07:12:30.657541",
     "exception": false,
     "start_time": "2020-09-17T07:12:30.343268",
     "status": "completed"
    },
    "tags": []
   },
   "outputs": [
    {
     "data": {
      "image/png": "[encoded data removed]",
      "text/plain": [
       "<Figure size 720x432 with 1 Axes>"
      ]
     },
     "metadata": {
      "needs_background": "light"
     },
     "output_type": "display_data"
    }
   ],
   "source": [
    "pd.crosstab(df_train['Response'], df_train['Previously_Insured']).plot(kind=\"bar\", figsize=(10,6), color=[\"salmon\", \"lightblue\"])\n",
    "\n",
    "plt.title(\"Response distribution for Previously_Insured\")\n",
    "plt.xlabel(\"0 = Customer is Not interested, 1 = Customer is interested\")\n",
    "plt.ylabel(\"Amount\")\n",
    "plt.legend([\"Customer doesn't have Vehicle Insurance\", \"Customer already has Vehicle Insurance\"])\n",
    "plt.xticks(rotation=0);"
   ]
  },
  {
   "cell_type": "markdown",
   "metadata": {
    "papermill": {
     "duration": 0.057666,
     "end_time": "2020-09-17T07:12:30.774177",
     "exception": false,
     "start_time": "2020-09-17T07:12:30.716511",
     "status": "completed"
    },
    "tags": []
   },
   "source": [
    "We can see that customers that already have a vehicle insurance with only very little exception are not interested."
   ]
  },
  {
   "cell_type": "markdown",
   "metadata": {
    "papermill": {
     "duration": 0.05187,
     "end_time": "2020-09-17T07:12:30.882019",
     "exception": false,
     "start_time": "2020-09-17T07:12:30.830149",
     "status": "completed"
    },
    "tags": []
   },
   "source": [
    "### Vehicle_Age"
   ]
  },
  {
   "cell_type": "code",
   "execution_count": 18,
   "metadata": {
    "execution": {
     "iopub.execute_input": "2020-09-17T07:12:31.091561Z",
     "iopub.status.busy": "2020-09-17T07:12:31.088372Z",
     "iopub.status.idle": "2020-09-17T07:12:31.095761Z",
     "shell.execute_reply": "2020-09-17T07:12:31.095098Z"
    },
    "papermill": {
     "duration": 0.162032,
     "end_time": "2020-09-17T07:12:31.095883",
     "exception": false,
     "start_time": "2020-09-17T07:12:30.933851",
     "status": "completed"
    },
    "tags": []
   },
   "outputs": [
    {
     "data": {
      "text/plain": [
       "1-2 Year     200316\n",
       "< 1 Year     164786\n",
       "> 2 Years     16007\n",
       "Name: Vehicle_Age, dtype: int64"
      ]
     },
     "execution_count": 18,
     "metadata": {},
     "output_type": "execute_result"
    }
   ],
   "source": [
    "df_train['Vehicle_Age'].value_counts()"
   ]
  },
  {
   "cell_type": "code",
   "execution_count": 19,
   "metadata": {
    "_kg_hide-input": true,
    "execution": {
     "iopub.execute_input": "2020-09-17T07:12:31.209893Z",
     "iopub.status.busy": "2020-09-17T07:12:31.209094Z",
     "iopub.status.idle": "2020-09-17T07:12:31.486878Z",
     "shell.execute_reply": "2020-09-17T07:12:31.487435Z"
    },
    "papermill": {
     "duration": 0.339358,
     "end_time": "2020-09-17T07:12:31.487616",
     "exception": false,
     "start_time": "2020-09-17T07:12:31.148258",
     "status": "completed"
    },
    "tags": []
   },
   "outputs": [
    {
     "data": {
      "image/png": "[encoded data removed]",
      "text/plain": [
       "<Figure size 720x432 with 1 Axes>"
      ]
     },
     "metadata": {
      "needs_background": "light"
     },
     "output_type": "display_data"
    }
   ],
   "source": [
    "pd.crosstab(df_train['Response'], df_train['Vehicle_Age']).plot(kind=\"bar\", figsize=(10,6), color=[\"salmon\", \"lightblue\", \"mediumseagreen\"])\n",
    "\n",
    "plt.title(\"Response distribution for Vehicle_Age\")\n",
    "plt.xlabel(\"0 = Customer is Not interested, 1 = Customer is interested\")\n",
    "plt.ylabel(\"Amount\")\n",
    "plt.legend([\"1-2 Year\", \"< 1 Year\", \"> 2 Years\"])\n",
    "plt.xticks(rotation=0);"
   ]
  },
  {
   "cell_type": "markdown",
   "metadata": {
    "papermill": {
     "duration": 0.054339,
     "end_time": "2020-09-17T07:12:31.660012",
     "exception": false,
     "start_time": "2020-09-17T07:12:31.605673",
     "status": "completed"
    },
    "tags": []
   },
   "source": [
    "### Vehicle_Damage"
   ]
  },
  {
   "cell_type": "code",
   "execution_count": 20,
   "metadata": {
    "execution": {
     "iopub.execute_input": "2020-09-17T07:12:31.771178Z",
     "iopub.status.busy": "2020-09-17T07:12:31.770497Z",
     "iopub.status.idle": "2020-09-17T07:12:31.875352Z",
     "shell.execute_reply": "2020-09-17T07:12:31.875886Z"
    },
    "papermill": {
     "duration": 0.161946,
     "end_time": "2020-09-17T07:12:31.876048",
     "exception": false,
     "start_time": "2020-09-17T07:12:31.714102",
     "status": "completed"
    },
    "tags": []
   },
   "outputs": [
    {
     "data": {
      "text/plain": [
       "Yes    192413\n",
       "No     188696\n",
       "Name: Vehicle_Damage, dtype: int64"
      ]
     },
     "execution_count": 20,
     "metadata": {},
     "output_type": "execute_result"
    }
   ],
   "source": [
    "df_train['Vehicle_Damage'].value_counts()"
   ]
  },
  {
   "cell_type": "code",
   "execution_count": 21,
   "metadata": {
    "execution": {
     "iopub.execute_input": "2020-09-17T07:12:31.991669Z",
     "iopub.status.busy": "2020-09-17T07:12:31.990937Z",
     "iopub.status.idle": "2020-09-17T07:12:32.071019Z",
     "shell.execute_reply": "2020-09-17T07:12:32.070409Z"
    },
    "papermill": {
     "duration": 0.140624,
     "end_time": "2020-09-17T07:12:32.071157",
     "exception": false,
     "start_time": "2020-09-17T07:12:31.930533",
     "status": "completed"
    },
    "tags": []
   },
   "outputs": [
    {
     "data": {
      "text/html": [
       "<div>\n",
       "<style scoped>\n",
       "    .dataframe tbody tr th:only-of-type {\n",
       "        vertical-align: middle;\n",
       "    }\n",
       "\n",
       "    .dataframe tbody tr th {\n",
       "        vertical-align: top;\n",
       "    }\n",
       "\n",
       "    .dataframe thead th {\n",
       "        text-align: right;\n",
       "    }\n",
       "</style>\n",
       "<table border=\"1\" class=\"dataframe\">\n",
       "  <thead>\n",
       "    <tr style=\"text-align: right;\">\n",
       "      <th>Vehicle_Damage</th>\n",
       "      <th>No</th>\n",
       "      <th>Yes</th>\n",
       "    </tr>\n",
       "    <tr>\n",
       "      <th>Response</th>\n",
       "      <th></th>\n",
       "      <th></th>\n",
       "    </tr>\n",
       "  </thead>\n",
       "  <tbody>\n",
       "    <tr>\n",
       "      <th>0</th>\n",
       "      <td>187714</td>\n",
       "      <td>146685</td>\n",
       "    </tr>\n",
       "    <tr>\n",
       "      <th>1</th>\n",
       "      <td>982</td>\n",
       "      <td>45728</td>\n",
       "    </tr>\n",
       "  </tbody>\n",
       "</table>\n",
       "</div>"
      ],
      "text/plain": [
       "Vehicle_Damage      No     Yes\n",
       "Response                      \n",
       "0               187714  146685\n",
       "1                  982   45728"
      ]
     },
     "execution_count": 21,
     "metadata": {},
     "output_type": "execute_result"
    }
   ],
   "source": [
    "pd.crosstab(df_train['Response'], df_train['Vehicle_Damage'])"
   ]
  },
  {
   "cell_type": "code",
   "execution_count": 22,
   "metadata": {
    "_kg_hide-input": true,
    "execution": {
     "iopub.execute_input": "2020-09-17T07:12:32.203758Z",
     "iopub.status.busy": "2020-09-17T07:12:32.202904Z",
     "iopub.status.idle": "2020-09-17T07:12:32.453302Z",
     "shell.execute_reply": "2020-09-17T07:12:32.453840Z"
    },
    "papermill": {
     "duration": 0.321347,
     "end_time": "2020-09-17T07:12:32.454006",
     "exception": false,
     "start_time": "2020-09-17T07:12:32.132659",
     "status": "completed"
    },
    "tags": []
   },
   "outputs": [
    {
     "data": {
      "image/png": "[encoded data removed]",
      "text/plain": [
       "<Figure size 720x432 with 1 Axes>"
      ]
     },
     "metadata": {
      "needs_background": "light"
     },
     "output_type": "display_data"
    }
   ],
   "source": [
    "pd.crosstab(df_train['Response'], df_train['Vehicle_Damage']).plot(kind=\"bar\", figsize=(10,6), color=[\"salmon\", \"lightblue\"])\n",
    "\n",
    "plt.title(\"Response distribution for Vehicle_Damage\")\n",
    "plt.xlabel(\"0 = Customer is Not interested, 1 = Customer is interested\")\n",
    "plt.ylabel(\"Amount\")\n",
    "plt.legend([\"Vehicle Damage\", \"No Vehicle Damage\"])\n",
    "plt.xticks(rotation=0);"
   ]
  },
  {
   "cell_type": "markdown",
   "metadata": {
    "papermill": {
     "duration": 0.055542,
     "end_time": "2020-09-17T07:12:32.565922",
     "exception": false,
     "start_time": "2020-09-17T07:12:32.510380",
     "status": "completed"
    },
    "tags": []
   },
   "source": [
    "### Annual_Premium"
   ]
  },
  {
   "cell_type": "code",
   "execution_count": 23,
   "metadata": {
    "execution": {
     "iopub.execute_input": "2020-09-17T07:12:32.686941Z",
     "iopub.status.busy": "2020-09-17T07:12:32.686230Z",
     "iopub.status.idle": "2020-09-17T07:12:32.711839Z",
     "shell.execute_reply": "2020-09-17T07:12:32.712486Z"
    },
    "papermill": {
     "duration": 0.090554,
     "end_time": "2020-09-17T07:12:32.712662",
     "exception": false,
     "start_time": "2020-09-17T07:12:32.622108",
     "status": "completed"
    },
    "tags": []
   },
   "outputs": [
    {
     "data": {
      "text/plain": [
       "count    381109.000000\n",
       "mean      30564.389581\n",
       "std       17213.155057\n",
       "min        2630.000000\n",
       "25%       24405.000000\n",
       "50%       31669.000000\n",
       "75%       39400.000000\n",
       "max      540165.000000\n",
       "Name: Annual_Premium, dtype: float64"
      ]
     },
     "execution_count": 23,
     "metadata": {},
     "output_type": "execute_result"
    }
   ],
   "source": [
    "df_train['Annual_Premium'].describe()"
   ]
  },
  {
   "cell_type": "markdown",
   "metadata": {
    "papermill": {
     "duration": 0.056036,
     "end_time": "2020-09-17T07:12:32.825318",
     "exception": false,
     "start_time": "2020-09-17T07:12:32.769282",
     "status": "completed"
    },
    "tags": []
   },
   "source": [
    "### Policy_Sales_Channel"
   ]
  },
  {
   "cell_type": "code",
   "execution_count": 24,
   "metadata": {
    "execution": {
     "iopub.execute_input": "2020-09-17T07:12:32.942745Z",
     "iopub.status.busy": "2020-09-17T07:12:32.942024Z",
     "iopub.status.idle": "2020-09-17T07:12:32.966903Z",
     "shell.execute_reply": "2020-09-17T07:12:32.967532Z"
    },
    "papermill": {
     "duration": 0.085263,
     "end_time": "2020-09-17T07:12:32.967699",
     "exception": false,
     "start_time": "2020-09-17T07:12:32.882436",
     "status": "completed"
    },
    "tags": []
   },
   "outputs": [
    {
     "data": {
      "text/plain": [
       "count    381109.000000\n",
       "mean        112.034295\n",
       "std          54.203995\n",
       "min           1.000000\n",
       "25%          29.000000\n",
       "50%         133.000000\n",
       "75%         152.000000\n",
       "max         163.000000\n",
       "Name: Policy_Sales_Channel, dtype: float64"
      ]
     },
     "execution_count": 24,
     "metadata": {},
     "output_type": "execute_result"
    }
   ],
   "source": [
    "df_train['Policy_Sales_Channel'].describe()"
   ]
  },
  {
   "cell_type": "markdown",
   "metadata": {
    "papermill": {
     "duration": 0.05626,
     "end_time": "2020-09-17T07:12:33.081101",
     "exception": false,
     "start_time": "2020-09-17T07:12:33.024841",
     "status": "completed"
    },
    "tags": []
   },
   "source": [
    "### Vintage"
   ]
  },
  {
   "cell_type": "code",
   "execution_count": 25,
   "metadata": {
    "execution": {
     "iopub.execute_input": "2020-09-17T07:12:33.199102Z",
     "iopub.status.busy": "2020-09-17T07:12:33.198445Z",
     "iopub.status.idle": "2020-09-17T07:12:33.223743Z",
     "shell.execute_reply": "2020-09-17T07:12:33.224379Z"
    },
    "papermill": {
     "duration": 0.086547,
     "end_time": "2020-09-17T07:12:33.224544",
     "exception": false,
     "start_time": "2020-09-17T07:12:33.137997",
     "status": "completed"
    },
    "tags": []
   },
   "outputs": [
    {
     "data": {
      "text/plain": [
       "count    381109.000000\n",
       "mean        154.347397\n",
       "std          83.671304\n",
       "min          10.000000\n",
       "25%          82.000000\n",
       "50%         154.000000\n",
       "75%         227.000000\n",
       "max         299.000000\n",
       "Name: Vintage, dtype: float64"
      ]
     },
     "execution_count": 25,
     "metadata": {},
     "output_type": "execute_result"
    }
   ],
   "source": [
    "df_train['Vintage'].describe()"
   ]
  },
  {
   "cell_type": "markdown",
   "metadata": {
    "papermill": {
     "duration": 0.056573,
     "end_time": "2020-09-17T07:12:33.338063",
     "exception": false,
     "start_time": "2020-09-17T07:12:33.281490",
     "status": "completed"
    },
    "tags": []
   },
   "source": [
    "## Feature Engineering"
   ]
  },
  {
   "cell_type": "markdown",
   "metadata": {
    "papermill": {
     "duration": 0.056769,
     "end_time": "2020-09-17T07:12:33.451825",
     "exception": false,
     "start_time": "2020-09-17T07:12:33.395056",
     "status": "completed"
    },
    "tags": []
   },
   "source": [
    "Let's take a look at our data again."
   ]
  },
  {
   "cell_type": "code",
   "execution_count": 26,
   "metadata": {
    "execution": {
     "iopub.execute_input": "2020-09-17T07:12:33.571567Z",
     "iopub.status.busy": "2020-09-17T07:12:33.570796Z",
     "iopub.status.idle": "2020-09-17T07:12:33.587963Z",
     "shell.execute_reply": "2020-09-17T07:12:33.588498Z"
    },
    "papermill": {
     "duration": 0.078687,
     "end_time": "2020-09-17T07:12:33.588668",
     "exception": false,
     "start_time": "2020-09-17T07:12:33.509981",
     "status": "completed"
    },
    "tags": []
   },
   "outputs": [
    {
     "data": {
      "text/html": [
       "<div>\n",
       "<style scoped>\n",
       "    .dataframe tbody tr th:only-of-type {\n",
       "        vertical-align: middle;\n",
       "    }\n",
       "\n",
       "    .dataframe tbody tr th {\n",
       "        vertical-align: top;\n",
       "    }\n",
       "\n",
       "    .dataframe thead th {\n",
       "        text-align: right;\n",
       "    }\n",
       "</style>\n",
       "<table border=\"1\" class=\"dataframe\">\n",
       "  <thead>\n",
       "    <tr style=\"text-align: right;\">\n",
       "      <th></th>\n",
       "      <th>Gender</th>\n",
       "      <th>Age</th>\n",
       "      <th>Region_Code</th>\n",
       "      <th>Previously_Insured</th>\n",
       "      <th>Vehicle_Age</th>\n",
       "      <th>Vehicle_Damage</th>\n",
       "      <th>Annual_Premium</th>\n",
       "      <th>Policy_Sales_Channel</th>\n",
       "      <th>Vintage</th>\n",
       "      <th>Response</th>\n",
       "    </tr>\n",
       "  </thead>\n",
       "  <tbody>\n",
       "    <tr>\n",
       "      <th>0</th>\n",
       "      <td>Male</td>\n",
       "      <td>44</td>\n",
       "      <td>28.0</td>\n",
       "      <td>0</td>\n",
       "      <td>&gt; 2 Years</td>\n",
       "      <td>Yes</td>\n",
       "      <td>40454.0</td>\n",
       "      <td>26.0</td>\n",
       "      <td>217</td>\n",
       "      <td>1</td>\n",
       "    </tr>\n",
       "    <tr>\n",
       "      <th>1</th>\n",
       "      <td>Male</td>\n",
       "      <td>76</td>\n",
       "      <td>3.0</td>\n",
       "      <td>0</td>\n",
       "      <td>1-2 Year</td>\n",
       "      <td>No</td>\n",
       "      <td>33536.0</td>\n",
       "      <td>26.0</td>\n",
       "      <td>183</td>\n",
       "      <td>0</td>\n",
       "    </tr>\n",
       "    <tr>\n",
       "      <th>2</th>\n",
       "      <td>Male</td>\n",
       "      <td>47</td>\n",
       "      <td>28.0</td>\n",
       "      <td>0</td>\n",
       "      <td>&gt; 2 Years</td>\n",
       "      <td>Yes</td>\n",
       "      <td>38294.0</td>\n",
       "      <td>26.0</td>\n",
       "      <td>27</td>\n",
       "      <td>1</td>\n",
       "    </tr>\n",
       "    <tr>\n",
       "      <th>3</th>\n",
       "      <td>Male</td>\n",
       "      <td>21</td>\n",
       "      <td>11.0</td>\n",
       "      <td>1</td>\n",
       "      <td>&lt; 1 Year</td>\n",
       "      <td>No</td>\n",
       "      <td>28619.0</td>\n",
       "      <td>152.0</td>\n",
       "      <td>203</td>\n",
       "      <td>0</td>\n",
       "    </tr>\n",
       "    <tr>\n",
       "      <th>4</th>\n",
       "      <td>Female</td>\n",
       "      <td>29</td>\n",
       "      <td>41.0</td>\n",
       "      <td>1</td>\n",
       "      <td>&lt; 1 Year</td>\n",
       "      <td>No</td>\n",
       "      <td>27496.0</td>\n",
       "      <td>152.0</td>\n",
       "      <td>39</td>\n",
       "      <td>0</td>\n",
       "    </tr>\n",
       "  </tbody>\n",
       "</table>\n",
       "</div>"
      ],
      "text/plain": [
       "   Gender  Age  Region_Code  Previously_Insured Vehicle_Age Vehicle_Damage  \\\n",
       "0    Male   44         28.0                   0   > 2 Years            Yes   \n",
       "1    Male   76          3.0                   0    1-2 Year             No   \n",
       "2    Male   47         28.0                   0   > 2 Years            Yes   \n",
       "3    Male   21         11.0                   1    < 1 Year             No   \n",
       "4  Female   29         41.0                   1    < 1 Year             No   \n",
       "\n",
       "   Annual_Premium  Policy_Sales_Channel  Vintage  Response  \n",
       "0         40454.0                  26.0      217         1  \n",
       "1         33536.0                  26.0      183         0  \n",
       "2         38294.0                  26.0       27         1  \n",
       "3         28619.0                 152.0      203         0  \n",
       "4         27496.0                 152.0       39         0  "
      ]
     },
     "execution_count": 26,
     "metadata": {},
     "output_type": "execute_result"
    }
   ],
   "source": [
    "df_train.head()"
   ]
  },
  {
   "cell_type": "markdown",
   "metadata": {
    "papermill": {
     "duration": 0.058928,
     "end_time": "2020-09-17T07:12:33.708103",
     "exception": false,
     "start_time": "2020-09-17T07:12:33.649175",
     "status": "completed"
    },
    "tags": []
   },
   "source": [
    "As a first step, we should get all our data in numeric form."
   ]
  },
  {
   "cell_type": "markdown",
   "metadata": {
    "papermill": {
     "duration": 0.057948,
     "end_time": "2020-09-17T07:12:33.824857",
     "exception": false,
     "start_time": "2020-09-17T07:12:33.766909",
     "status": "completed"
    },
    "tags": []
   },
   "source": [
    "Let's map `Gender` to `0` for `Male` and `1` for `Female`:"
   ]
  },
  {
   "cell_type": "code",
   "execution_count": 27,
   "metadata": {
    "execution": {
     "iopub.execute_input": "2020-09-17T07:12:33.943433Z",
     "iopub.status.busy": "2020-09-17T07:12:33.942713Z",
     "iopub.status.idle": "2020-09-17T07:12:34.024381Z",
     "shell.execute_reply": "2020-09-17T07:12:34.025018Z"
    },
    "papermill": {
     "duration": 0.142621,
     "end_time": "2020-09-17T07:12:34.025206",
     "exception": false,
     "start_time": "2020-09-17T07:12:33.882585",
     "status": "completed"
    },
    "tags": []
   },
   "outputs": [],
   "source": [
    "gender_mapping = {\n",
    "    'Male': 0,\n",
    "    'Female': 1\n",
    "}\n",
    "\n",
    "df_train.loc[:, \"Gender\"] = df_train['Gender'].map(gender_mapping)\n",
    "df_test.loc[:, \"Gender\"] = df_test['Gender'].map(gender_mapping)"
   ]
  },
  {
   "cell_type": "markdown",
   "metadata": {
    "papermill": {
     "duration": 0.057651,
     "end_time": "2020-09-17T07:12:34.142237",
     "exception": false,
     "start_time": "2020-09-17T07:12:34.084586",
     "status": "completed"
    },
    "tags": []
   },
   "source": [
    "Let's map `Vehicle_Age` to `0` for `< 1 Year`, `1` for `1-2 Year` and `2` for `> 2 Years`:"
   ]
  },
  {
   "cell_type": "code",
   "execution_count": 28,
   "metadata": {
    "execution": {
     "iopub.execute_input": "2020-09-17T07:12:34.262335Z",
     "iopub.status.busy": "2020-09-17T07:12:34.261541Z",
     "iopub.status.idle": "2020-09-17T07:12:34.374318Z",
     "shell.execute_reply": "2020-09-17T07:12:34.373664Z"
    },
    "papermill": {
     "duration": 0.173834,
     "end_time": "2020-09-17T07:12:34.374460",
     "exception": false,
     "start_time": "2020-09-17T07:12:34.200626",
     "status": "completed"
    },
    "tags": []
   },
   "outputs": [],
   "source": [
    "vehicle_age_mapping = {\n",
    "    '< 1 Year': 0,\n",
    "    '1-2 Year': 1,\n",
    "    '> 2 Years' : 2\n",
    "}\n",
    "\n",
    "df_train.loc[:, \"Vehicle_Age\"] = df_train['Vehicle_Age'].map(vehicle_age_mapping)\n",
    "df_test.loc[:, \"Vehicle_Age\"] = df_test['Vehicle_Age'].map(vehicle_age_mapping)"
   ]
  },
  {
   "cell_type": "markdown",
   "metadata": {
    "papermill": {
     "duration": 0.057562,
     "end_time": "2020-09-17T07:12:34.491222",
     "exception": false,
     "start_time": "2020-09-17T07:12:34.433660",
     "status": "completed"
    },
    "tags": []
   },
   "source": [
    "Let's map `Vehicle_Damage` to `0` for `No` and `1` for `Yes`:"
   ]
  },
  {
   "cell_type": "code",
   "execution_count": 29,
   "metadata": {
    "execution": {
     "iopub.execute_input": "2020-09-17T07:12:34.658791Z",
     "iopub.status.busy": "2020-09-17T07:12:34.658043Z",
     "iopub.status.idle": "2020-09-17T07:12:34.712581Z",
     "shell.execute_reply": "2020-09-17T07:12:34.711951Z"
    },
    "papermill": {
     "duration": 0.163221,
     "end_time": "2020-09-17T07:12:34.712732",
     "exception": false,
     "start_time": "2020-09-17T07:12:34.549511",
     "status": "completed"
    },
    "tags": []
   },
   "outputs": [],
   "source": [
    "vehicle_damage_mapping = {\n",
    "    'No': 0,\n",
    "    'Yes': 1\n",
    "}\n",
    "\n",
    "df_train.loc[:, \"Vehicle_Damage\"] = df_train['Vehicle_Damage'].map(vehicle_damage_mapping)\n",
    "df_test.loc[:, \"Vehicle_Damage\"] = df_test['Vehicle_Damage'].map(vehicle_damage_mapping)"
   ]
  },
  {
   "cell_type": "code",
   "execution_count": 30,
   "metadata": {
    "execution": {
     "iopub.execute_input": "2020-09-17T07:12:34.845802Z",
     "iopub.status.busy": "2020-09-17T07:12:34.845011Z",
     "iopub.status.idle": "2020-09-17T07:12:34.850251Z",
     "shell.execute_reply": "2020-09-17T07:12:34.849559Z"
    },
    "papermill": {
     "duration": 0.079052,
     "end_time": "2020-09-17T07:12:34.850380",
     "exception": false,
     "start_time": "2020-09-17T07:12:34.771328",
     "status": "completed"
    },
    "tags": []
   },
   "outputs": [
    {
     "data": {
      "text/html": [
       "<div>\n",
       "<style scoped>\n",
       "    .dataframe tbody tr th:only-of-type {\n",
       "        vertical-align: middle;\n",
       "    }\n",
       "\n",
       "    .dataframe tbody tr th {\n",
       "        vertical-align: top;\n",
       "    }\n",
       "\n",
       "    .dataframe thead th {\n",
       "        text-align: right;\n",
       "    }\n",
       "</style>\n",
       "<table border=\"1\" class=\"dataframe\">\n",
       "  <thead>\n",
       "    <tr style=\"text-align: right;\">\n",
       "      <th></th>\n",
       "      <th>Gender</th>\n",
       "      <th>Age</th>\n",
       "      <th>Region_Code</th>\n",
       "      <th>Previously_Insured</th>\n",
       "      <th>Vehicle_Age</th>\n",
       "      <th>Vehicle_Damage</th>\n",
       "      <th>Annual_Premium</th>\n",
       "      <th>Policy_Sales_Channel</th>\n",
       "      <th>Vintage</th>\n",
       "      <th>Response</th>\n",
       "    </tr>\n",
       "  </thead>\n",
       "  <tbody>\n",
       "    <tr>\n",
       "      <th>0</th>\n",
       "      <td>0</td>\n",
       "      <td>44</td>\n",
       "      <td>28.0</td>\n",
       "      <td>0</td>\n",
       "      <td>2</td>\n",
       "      <td>1</td>\n",
       "      <td>40454.0</td>\n",
       "      <td>26.0</td>\n",
       "      <td>217</td>\n",
       "      <td>1</td>\n",
       "    </tr>\n",
       "    <tr>\n",
       "      <th>1</th>\n",
       "      <td>0</td>\n",
       "      <td>76</td>\n",
       "      <td>3.0</td>\n",
       "      <td>0</td>\n",
       "      <td>1</td>\n",
       "      <td>0</td>\n",
       "      <td>33536.0</td>\n",
       "      <td>26.0</td>\n",
       "      <td>183</td>\n",
       "      <td>0</td>\n",
       "    </tr>\n",
       "    <tr>\n",
       "      <th>2</th>\n",
       "      <td>0</td>\n",
       "      <td>47</td>\n",
       "      <td>28.0</td>\n",
       "      <td>0</td>\n",
       "      <td>2</td>\n",
       "      <td>1</td>\n",
       "      <td>38294.0</td>\n",
       "      <td>26.0</td>\n",
       "      <td>27</td>\n",
       "      <td>1</td>\n",
       "    </tr>\n",
       "    <tr>\n",
       "      <th>3</th>\n",
       "      <td>0</td>\n",
       "      <td>21</td>\n",
       "      <td>11.0</td>\n",
       "      <td>1</td>\n",
       "      <td>0</td>\n",
       "      <td>0</td>\n",
       "      <td>28619.0</td>\n",
       "      <td>152.0</td>\n",
       "      <td>203</td>\n",
       "      <td>0</td>\n",
       "    </tr>\n",
       "    <tr>\n",
       "      <th>4</th>\n",
       "      <td>1</td>\n",
       "      <td>29</td>\n",
       "      <td>41.0</td>\n",
       "      <td>1</td>\n",
       "      <td>0</td>\n",
       "      <td>0</td>\n",
       "      <td>27496.0</td>\n",
       "      <td>152.0</td>\n",
       "      <td>39</td>\n",
       "      <td>0</td>\n",
       "    </tr>\n",
       "  </tbody>\n",
       "</table>\n",
       "</div>"
      ],
      "text/plain": [
       "   Gender  Age  Region_Code  Previously_Insured  Vehicle_Age  Vehicle_Damage  \\\n",
       "0       0   44         28.0                   0            2               1   \n",
       "1       0   76          3.0                   0            1               0   \n",
       "2       0   47         28.0                   0            2               1   \n",
       "3       0   21         11.0                   1            0               0   \n",
       "4       1   29         41.0                   1            0               0   \n",
       "\n",
       "   Annual_Premium  Policy_Sales_Channel  Vintage  Response  \n",
       "0         40454.0                  26.0      217         1  \n",
       "1         33536.0                  26.0      183         0  \n",
       "2         38294.0                  26.0       27         1  \n",
       "3         28619.0                 152.0      203         0  \n",
       "4         27496.0                 152.0       39         0  "
      ]
     },
     "execution_count": 30,
     "metadata": {},
     "output_type": "execute_result"
    }
   ],
   "source": [
    "df_train.head()"
   ]
  },
  {
   "cell_type": "code",
   "execution_count": 31,
   "metadata": {
    "execution": {
     "iopub.execute_input": "2020-09-17T07:12:34.971296Z",
     "iopub.status.busy": "2020-09-17T07:12:34.970620Z",
     "iopub.status.idle": "2020-09-17T07:12:34.986592Z",
     "shell.execute_reply": "2020-09-17T07:12:34.987149Z"
    },
    "papermill": {
     "duration": 0.078096,
     "end_time": "2020-09-17T07:12:34.987327",
     "exception": false,
     "start_time": "2020-09-17T07:12:34.909231",
     "status": "completed"
    },
    "tags": []
   },
   "outputs": [
    {
     "data": {
      "text/html": [
       "<div>\n",
       "<style scoped>\n",
       "    .dataframe tbody tr th:only-of-type {\n",
       "        vertical-align: middle;\n",
       "    }\n",
       "\n",
       "    .dataframe tbody tr th {\n",
       "        vertical-align: top;\n",
       "    }\n",
       "\n",
       "    .dataframe thead th {\n",
       "        text-align: right;\n",
       "    }\n",
       "</style>\n",
       "<table border=\"1\" class=\"dataframe\">\n",
       "  <thead>\n",
       "    <tr style=\"text-align: right;\">\n",
       "      <th></th>\n",
       "      <th>Gender</th>\n",
       "      <th>Age</th>\n",
       "      <th>Region_Code</th>\n",
       "      <th>Previously_Insured</th>\n",
       "      <th>Vehicle_Age</th>\n",
       "      <th>Vehicle_Damage</th>\n",
       "      <th>Annual_Premium</th>\n",
       "      <th>Policy_Sales_Channel</th>\n",
       "      <th>Vintage</th>\n",
       "    </tr>\n",
       "  </thead>\n",
       "  <tbody>\n",
       "    <tr>\n",
       "      <th>0</th>\n",
       "      <td>0</td>\n",
       "      <td>25</td>\n",
       "      <td>11.0</td>\n",
       "      <td>1</td>\n",
       "      <td>0</td>\n",
       "      <td>0</td>\n",
       "      <td>35786.0</td>\n",
       "      <td>152.0</td>\n",
       "      <td>53</td>\n",
       "    </tr>\n",
       "    <tr>\n",
       "      <th>1</th>\n",
       "      <td>0</td>\n",
       "      <td>40</td>\n",
       "      <td>28.0</td>\n",
       "      <td>0</td>\n",
       "      <td>1</td>\n",
       "      <td>1</td>\n",
       "      <td>33762.0</td>\n",
       "      <td>7.0</td>\n",
       "      <td>111</td>\n",
       "    </tr>\n",
       "    <tr>\n",
       "      <th>2</th>\n",
       "      <td>0</td>\n",
       "      <td>47</td>\n",
       "      <td>28.0</td>\n",
       "      <td>0</td>\n",
       "      <td>1</td>\n",
       "      <td>1</td>\n",
       "      <td>40050.0</td>\n",
       "      <td>124.0</td>\n",
       "      <td>199</td>\n",
       "    </tr>\n",
       "    <tr>\n",
       "      <th>3</th>\n",
       "      <td>0</td>\n",
       "      <td>24</td>\n",
       "      <td>27.0</td>\n",
       "      <td>1</td>\n",
       "      <td>0</td>\n",
       "      <td>1</td>\n",
       "      <td>37356.0</td>\n",
       "      <td>152.0</td>\n",
       "      <td>187</td>\n",
       "    </tr>\n",
       "    <tr>\n",
       "      <th>4</th>\n",
       "      <td>0</td>\n",
       "      <td>27</td>\n",
       "      <td>28.0</td>\n",
       "      <td>1</td>\n",
       "      <td>0</td>\n",
       "      <td>0</td>\n",
       "      <td>59097.0</td>\n",
       "      <td>152.0</td>\n",
       "      <td>297</td>\n",
       "    </tr>\n",
       "  </tbody>\n",
       "</table>\n",
       "</div>"
      ],
      "text/plain": [
       "   Gender  Age  Region_Code  Previously_Insured  Vehicle_Age  Vehicle_Damage  \\\n",
       "0       0   25         11.0                   1            0               0   \n",
       "1       0   40         28.0                   0            1               1   \n",
       "2       0   47         28.0                   0            1               1   \n",
       "3       0   24         27.0                   1            0               1   \n",
       "4       0   27         28.0                   1            0               0   \n",
       "\n",
       "   Annual_Premium  Policy_Sales_Channel  Vintage  \n",
       "0         35786.0                 152.0       53  \n",
       "1         33762.0                   7.0      111  \n",
       "2         40050.0                 124.0      199  \n",
       "3         37356.0                 152.0      187  \n",
       "4         59097.0                 152.0      297  "
      ]
     },
     "execution_count": 31,
     "metadata": {},
     "output_type": "execute_result"
    }
   ],
   "source": [
    "df_test.head()"
   ]
  },
  {
   "cell_type": "markdown",
   "metadata": {
    "papermill": {
     "duration": 0.059591,
     "end_time": "2020-09-17T07:12:35.107403",
     "exception": false,
     "start_time": "2020-09-17T07:12:35.047812",
     "status": "completed"
    },
    "tags": []
   },
   "source": [
    "Great! Now our data is in numeric form!"
   ]
  },
  {
   "cell_type": "markdown",
   "metadata": {
    "papermill": {
     "duration": 0.059948,
     "end_time": "2020-09-17T07:12:35.227328",
     "exception": false,
     "start_time": "2020-09-17T07:12:35.167380",
     "status": "completed"
    },
    "tags": []
   },
   "source": [
    "Now let's take a look at the correlation:"
   ]
  },
  {
   "cell_type": "code",
   "execution_count": 32,
   "metadata": {
    "execution": {
     "iopub.execute_input": "2020-09-17T07:12:35.351271Z",
     "iopub.status.busy": "2020-09-17T07:12:35.350524Z",
     "iopub.status.idle": "2020-09-17T07:12:36.217827Z",
     "shell.execute_reply": "2020-09-17T07:12:36.218406Z"
    },
    "papermill": {
     "duration": 0.93146,
     "end_time": "2020-09-17T07:12:36.218625",
     "exception": false,
     "start_time": "2020-09-17T07:12:35.287165",
     "status": "completed"
    },
    "tags": []
   },
   "outputs": [
    {
     "data": {
      "image/png": "[encoded data removed]",
      "text/plain": [
       "<Figure size 864x720 with 2 Axes>"
      ]
     },
     "metadata": {
      "needs_background": "light"
     },
     "output_type": "display_data"
    }
   ],
   "source": [
    "#Using Pearson Correlation\n",
    "plt.figure(figsize=(12,10))\n",
    "cor = df_train.corr()\n",
    "sns.heatmap(cor, annot=True, cmap=plt.cm.Reds)\n",
    "plt.show()"
   ]
  },
  {
   "cell_type": "markdown",
   "metadata": {
    "papermill": {
     "duration": 0.06475,
     "end_time": "2020-09-17T07:12:36.350634",
     "exception": false,
     "start_time": "2020-09-17T07:12:36.285884",
     "status": "completed"
    },
    "tags": []
   },
   "source": [
    "Response has the highest correlation with `Vehicle_Damage` with `0.35` and `Vehicle_Age` with `0.22` and the highest negative correlation with `Previously_Insured` with `-0.34`."
   ]
  },
  {
   "cell_type": "markdown",
   "metadata": {
    "papermill": {
     "duration": 0.066397,
     "end_time": "2020-09-17T07:12:36.483206",
     "exception": false,
     "start_time": "2020-09-17T07:12:36.416809",
     "status": "completed"
    },
    "tags": []
   },
   "source": [
    "# Modeling"
   ]
  },
  {
   "cell_type": "markdown",
   "metadata": {
    "papermill": {
     "duration": 0.065724,
     "end_time": "2020-09-17T07:12:36.615436",
     "exception": false,
     "start_time": "2020-09-17T07:12:36.549712",
     "status": "completed"
    },
    "tags": []
   },
   "source": [
    "Let's check the scores with all features:"
   ]
  },
  {
   "cell_type": "code",
   "execution_count": 33,
   "metadata": {
    "execution": {
     "iopub.execute_input": "2020-09-17T07:12:36.765790Z",
     "iopub.status.busy": "2020-09-17T07:12:36.765091Z",
     "iopub.status.idle": "2020-09-17T07:12:36.767196Z",
     "shell.execute_reply": "2020-09-17T07:12:36.767751Z"
    },
    "papermill": {
     "duration": 0.08461,
     "end_time": "2020-09-17T07:12:36.767914",
     "exception": false,
     "start_time": "2020-09-17T07:12:36.683304",
     "status": "completed"
    },
    "tags": []
   },
   "outputs": [],
   "source": [
    "X = df_train.drop([\"Response\"], axis=1)\n",
    "y = df_train['Response'].values"
   ]
  },
  {
   "cell_type": "code",
   "execution_count": 34,
   "metadata": {
    "execution": {
     "iopub.execute_input": "2020-09-17T07:12:36.896381Z",
     "iopub.status.busy": "2020-09-17T07:12:36.895533Z",
     "iopub.status.idle": "2020-09-17T07:12:36.968745Z",
     "shell.execute_reply": "2020-09-17T07:12:36.968067Z"
    },
    "papermill": {
     "duration": 0.138601,
     "end_time": "2020-09-17T07:12:36.968891",
     "exception": false,
     "start_time": "2020-09-17T07:12:36.830290",
     "status": "completed"
    },
    "tags": []
   },
   "outputs": [],
   "source": [
    "np.random.seed(42)\n",
    "\n",
    "X_train, X_test, y_train, y_test = train_test_split(X, y, test_size = 0.2)"
   ]
  },
  {
   "cell_type": "code",
   "execution_count": 35,
   "metadata": {
    "execution": {
     "iopub.execute_input": "2020-09-17T07:12:37.111562Z",
     "iopub.status.busy": "2020-09-17T07:12:37.110756Z",
     "iopub.status.idle": "2020-09-17T07:13:04.517026Z",
     "shell.execute_reply": "2020-09-17T07:13:04.517724Z"
    },
    "papermill": {
     "duration": 27.482686,
     "end_time": "2020-09-17T07:13:04.517944",
     "exception": false,
     "start_time": "2020-09-17T07:12:37.035258",
     "status": "completed"
    },
    "tags": []
   },
   "outputs": [
    {
     "data": {
      "text/plain": [
       "0.8628611162131669"
      ]
     },
     "execution_count": 35,
     "metadata": {},
     "output_type": "execute_result"
    }
   ],
   "source": [
    "np.random.seed(42)\n",
    "\n",
    "model = SGDClassifier()\n",
    "model.fit(X_train, y_train)\n",
    "model.score(X_test,y_test)"
   ]
  },
  {
   "cell_type": "code",
   "execution_count": 36,
   "metadata": {
    "execution": {
     "iopub.execute_input": "2020-09-17T07:13:04.657845Z",
     "iopub.status.busy": "2020-09-17T07:13:04.656333Z",
     "iopub.status.idle": "2020-09-17T07:13:09.909866Z",
     "shell.execute_reply": "2020-09-17T07:13:09.910522Z"
    },
    "papermill": {
     "duration": 5.326296,
     "end_time": "2020-09-17T07:13:09.910722",
     "exception": false,
     "start_time": "2020-09-17T07:13:04.584426",
     "status": "completed"
    },
    "tags": []
   },
   "outputs": [
    {
     "data": {
      "text/plain": [
       "0.8716249901603211"
      ]
     },
     "execution_count": 36,
     "metadata": {},
     "output_type": "execute_result"
    }
   ],
   "source": [
    "np.random.seed(42)\n",
    "\n",
    "model = LogisticRegression(max_iter=10000)\n",
    "model.fit(X_train, y_train)\n",
    "model.score(X_test,y_test)"
   ]
  },
  {
   "cell_type": "code",
   "execution_count": 37,
   "metadata": {
    "execution": {
     "iopub.execute_input": "2020-09-17T07:13:10.050801Z",
     "iopub.status.busy": "2020-09-17T07:13:10.049283Z",
     "iopub.status.idle": "2020-09-17T07:14:03.914101Z",
     "shell.execute_reply": "2020-09-17T07:14:03.914714Z"
    },
    "papermill": {
     "duration": 53.939466,
     "end_time": "2020-09-17T07:14:03.914906",
     "exception": false,
     "start_time": "2020-09-17T07:13:09.975440",
     "status": "completed"
    },
    "tags": []
   },
   "outputs": [
    {
     "data": {
      "text/plain": [
       "0.8649602476975151"
      ]
     },
     "execution_count": 37,
     "metadata": {},
     "output_type": "execute_result"
    }
   ],
   "source": [
    "np.random.seed(42)\n",
    "\n",
    "model = RandomForestClassifier()\n",
    "model.fit(X_train, y_train)\n",
    "model.score(X_test,y_test)"
   ]
  },
  {
   "cell_type": "markdown",
   "metadata": {
    "papermill": {
     "duration": 0.066117,
     "end_time": "2020-09-17T07:14:04.045115",
     "exception": false,
     "start_time": "2020-09-17T07:14:03.978998",
     "status": "completed"
    },
    "tags": []
   },
   "source": [
    "Now let's check the scores with the features that have a correlation `> 0.1` or `< -0.1` "
   ]
  },
  {
   "cell_type": "code",
   "execution_count": 38,
   "metadata": {
    "execution": {
     "iopub.execute_input": "2020-09-17T07:14:04.191746Z",
     "iopub.status.busy": "2020-09-17T07:14:04.190724Z",
     "iopub.status.idle": "2020-09-17T07:14:04.194099Z",
     "shell.execute_reply": "2020-09-17T07:14:04.193532Z"
    },
    "papermill": {
     "duration": 0.083936,
     "end_time": "2020-09-17T07:14:04.194238",
     "exception": false,
     "start_time": "2020-09-17T07:14:04.110302",
     "status": "completed"
    },
    "tags": []
   },
   "outputs": [],
   "source": [
    "X = df_train.drop([\"Response\", \"Gender\", \"Region_Code\", \"Annual_Premium\", \"Vintage\"], axis=1)\n",
    "y = df_train['Response'].values"
   ]
  },
  {
   "cell_type": "code",
   "execution_count": 39,
   "metadata": {
    "execution": {
     "iopub.execute_input": "2020-09-17T07:14:04.332375Z",
     "iopub.status.busy": "2020-09-17T07:14:04.331446Z",
     "iopub.status.idle": "2020-09-17T07:14:04.384705Z",
     "shell.execute_reply": "2020-09-17T07:14:04.383973Z"
    },
    "papermill": {
     "duration": 0.125385,
     "end_time": "2020-09-17T07:14:04.384852",
     "exception": false,
     "start_time": "2020-09-17T07:14:04.259467",
     "status": "completed"
    },
    "tags": []
   },
   "outputs": [],
   "source": [
    "np.random.seed(42)\n",
    "\n",
    "X_train, X_test, y_train, y_test = train_test_split(X, y, test_size = 0.2)"
   ]
  },
  {
   "cell_type": "code",
   "execution_count": 40,
   "metadata": {
    "execution": {
     "iopub.execute_input": "2020-09-17T07:14:04.526004Z",
     "iopub.status.busy": "2020-09-17T07:14:04.524324Z",
     "iopub.status.idle": "2020-09-17T07:14:18.967531Z",
     "shell.execute_reply": "2020-09-17T07:14:18.968123Z"
    },
    "papermill": {
     "duration": 14.518271,
     "end_time": "2020-09-17T07:14:18.968308",
     "exception": false,
     "start_time": "2020-09-17T07:14:04.450037",
     "status": "completed"
    },
    "tags": []
   },
   "outputs": [
    {
     "data": {
      "text/plain": [
       "0.8750623179659416"
      ]
     },
     "execution_count": 40,
     "metadata": {},
     "output_type": "execute_result"
    }
   ],
   "source": [
    "np.random.seed(42)\n",
    "\n",
    "model = SGDClassifier()\n",
    "model.fit(X_train, y_train)\n",
    "model.score(X_test,y_test)"
   ]
  },
  {
   "cell_type": "code",
   "execution_count": 41,
   "metadata": {
    "execution": {
     "iopub.execute_input": "2020-09-17T07:14:19.104458Z",
     "iopub.status.busy": "2020-09-17T07:14:19.103699Z",
     "iopub.status.idle": "2020-09-17T07:14:21.320593Z",
     "shell.execute_reply": "2020-09-17T07:14:21.320042Z"
    },
    "papermill": {
     "duration": 2.286814,
     "end_time": "2020-09-17T07:14:21.320726",
     "exception": false,
     "start_time": "2020-09-17T07:14:19.033912",
     "status": "completed"
    },
    "tags": []
   },
   "outputs": [
    {
     "data": {
      "text/plain": [
       "0.8749573613917242"
      ]
     },
     "execution_count": 41,
     "metadata": {},
     "output_type": "execute_result"
    }
   ],
   "source": [
    "np.random.seed(42)\n",
    "\n",
    "model = LogisticRegression(max_iter=10000)\n",
    "model.fit(X_train, y_train)\n",
    "model.score(X_test,y_test)"
   ]
  },
  {
   "cell_type": "code",
   "execution_count": 42,
   "metadata": {
    "execution": {
     "iopub.execute_input": "2020-09-17T07:14:21.462540Z",
     "iopub.status.busy": "2020-09-17T07:14:21.460754Z",
     "iopub.status.idle": "2020-09-17T07:14:38.309400Z",
     "shell.execute_reply": "2020-09-17T07:14:38.307919Z"
    },
    "papermill": {
     "duration": 16.92339,
     "end_time": "2020-09-17T07:14:38.309546",
     "exception": false,
     "start_time": "2020-09-17T07:14:21.386156",
     "status": "completed"
    },
    "tags": []
   },
   "outputs": [
    {
     "data": {
      "text/plain": [
       "0.8732518170606911"
      ]
     },
     "execution_count": 42,
     "metadata": {},
     "output_type": "execute_result"
    }
   ],
   "source": [
    "np.random.seed(42)\n",
    "\n",
    "model = RandomForestClassifier()\n",
    "model.fit(X_train, y_train)\n",
    "model.score(X_test,y_test)"
   ]
  },
  {
   "cell_type": "markdown",
   "metadata": {
    "papermill": {
     "duration": 0.064545,
     "end_time": "2020-09-17T07:14:38.439423",
     "exception": false,
     "start_time": "2020-09-17T07:14:38.374878",
     "status": "completed"
    },
    "tags": []
   },
   "source": [
    "Our models perform roughly the same. The models with a correlation of `> 0.1` or `< -0.1` only perform a little better."
   ]
  },
  {
   "cell_type": "markdown",
   "metadata": {
    "papermill": {
     "duration": 0.064754,
     "end_time": "2020-09-17T07:14:38.569416",
     "exception": false,
     "start_time": "2020-09-17T07:14:38.504662",
     "status": "completed"
    },
    "tags": []
   },
   "source": [
    "# Work in Progress"
   ]
  },
  {
   "cell_type": "code",
   "execution_count": null,
   "metadata": {
    "papermill": {
     "duration": 0.064879,
     "end_time": "2020-09-17T07:14:38.700056",
     "exception": false,
     "start_time": "2020-09-17T07:14:38.635177",
     "status": "completed"
    },
    "tags": []
   },
   "outputs": [],
   "source": []
  }
 ],
 "metadata": {
  "kernelspec": {
   "display_name": "Python 3",
   "language": "python",
   "name": "python3"
  },
  "language_info": {
   "codemirror_mode": {
    "name": "ipython",
    "version": 3
   },
   "file_extension": ".py",
   "mimetype": "text/x-python",
   "name": "python",
   "nbconvert_exporter": "python",
   "pygments_lexer": "ipython3",
   "version": "3.7.6"
  },
  "papermill": {
   "duration": 140.267984,
   "end_time": "2020-09-17T07:14:38.877379",
   "environment_variables": {},
   "exception": null,
   "input_path": "__notebook__.ipynb",
   "output_path": "__notebook__.ipynb",
   "parameters": {},
   "start_time": "2020-09-17T07:12:18.609395",
   "version": "2.1.0"
  }
 },
 "nbformat": 4,
 "nbformat_minor": 4
}
