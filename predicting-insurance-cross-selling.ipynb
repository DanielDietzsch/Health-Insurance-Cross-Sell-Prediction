{
 "cells": [
  {
   "cell_type": "markdown",
   "metadata": {
    "papermill": {
     "duration": 0.049609,
     "end_time": "2020-10-08T09:18:50.075882",
     "exception": false,
     "start_time": "2020-10-08T09:18:50.026273",
     "status": "completed"
    },
    "tags": []
   },
   "source": [
    "<h1 style=\"text-align:center\">Who will buy your insurance?</h1>"
   ]
  },
  {
   "cell_type": "markdown",
   "metadata": {
    "papermill": {
     "duration": 0.046308,
     "end_time": "2020-10-08T09:18:50.173400",
     "exception": false,
     "start_time": "2020-10-08T09:18:50.127092",
     "status": "completed"
    },
    "tags": []
   },
   "source": [
    "<div style=\"text-align:center;\"><img src=\"https://images.unsplash.com/photo-1570042707390-2e011141ab78?ixlib=rb-1.2.1&ixid=eyJhcHBfaWQiOjEyMDd9&auto=format&fit=crop&w=1789&q=80\" /></div>"
   ]
  },
  {
   "cell_type": "markdown",
   "metadata": {
    "papermill": {
     "duration": 0.046989,
     "end_time": "2020-10-08T09:18:50.266567",
     "exception": false,
     "start_time": "2020-10-08T09:18:50.219578",
     "status": "completed"
    },
    "tags": []
   },
   "source": [
    "**Context:** \n",
    "> Our client is an Insurance company that has provided Health Insurance to its customers now they need your help in building a model to predict whether the policyholders (customers) from past year will also be interested in Vehicle Insurance provided by the company.\n",
    "\n",
    "**About the Data:**\n",
    "* id:\tUnique ID for the customer\n",
    "* Gender:\tGender of the customer\n",
    "* Age:\tAge of the customer\n",
    "* Driving_License:\n",
    "   * 0 : Customer does not have DL \n",
    "   * 1 : Customer already has DL\n",
    "* Region_Code:\tUnique code for the region of the customer\n",
    "* Previously_Insured:\n",
    "   * 1 : Customer already has Vehicle Insurance \n",
    "   * 0 : Customer doesn't have Vehicle Insurance\n",
    "* Vehicle_Age:\tAge of the Vehicle\n",
    "* Vehicle_Damage:\n",
    "   * 1 : Customer got his/her vehicle damaged in the past. \n",
    "   * 0 : Customer didn't get his/her vehicle damaged in the past.\n",
    "* Annual_Premium:\tThe amount customer needs to pay as premium in the year\n",
    "* PolicySalesChannel:\tAnonymized Code for the channel of outreaching to the customer ie. Different Agents, Over Mail, Over Phone, In Person, etc.\n",
    "* Vintage:\tNumber of Days, Customer has been associated with the company\n",
    "* Response:\n",
    "   * 1 : Customer is interested \n",
    "   * 0 : Customer is not interested"
   ]
  },
  {
   "cell_type": "markdown",
   "metadata": {
    "papermill": {
     "duration": 0.045932,
     "end_time": "2020-10-08T09:18:50.358985",
     "exception": false,
     "start_time": "2020-10-08T09:18:50.313053",
     "status": "completed"
    },
    "tags": []
   },
   "source": [
    "## Imports"
   ]
  },
  {
   "cell_type": "code",
   "execution_count": 1,
   "metadata": {
    "execution": {
     "iopub.execute_input": "2020-10-08T09:18:50.468604Z",
     "iopub.status.busy": "2020-10-08T09:18:50.467656Z",
     "iopub.status.idle": "2020-10-08T09:18:52.058068Z",
     "shell.execute_reply": "2020-10-08T09:18:52.056698Z"
    },
    "papermill": {
     "duration": 1.653203,
     "end_time": "2020-10-08T09:18:52.058243",
     "exception": false,
     "start_time": "2020-10-08T09:18:50.405040",
     "status": "completed"
    },
    "tags": []
   },
   "outputs": [],
   "source": [
    "# Data Processing\n",
    "import numpy as np \n",
    "import pandas as pd \n",
    "\n",
    "# Data Visualization\n",
    "import matplotlib.pyplot as plt\n",
    "%matplotlib inline\n",
    "import seaborn as sns\n",
    "sns.set(style='whitegrid')\n",
    "\n",
    "# Modeling\n",
    "from sklearn.model_selection import train_test_split\n",
    "from sklearn.model_selection import StratifiedKFold\n",
    "\n",
    "from sklearn.linear_model import SGDClassifier\n",
    "\n",
    "from sklearn.ensemble import RandomForestClassifier, GradientBoostingClassifier\n",
    "from sklearn.linear_model import LogisticRegression\n",
    "\n",
    "from sklearn.metrics import roc_curve, auc, accuracy_score, roc_auc_score, f1_score, recall_score, precision_score\n",
    "\n",
    "\n",
    "from sklearn.model_selection import RandomizedSearchCV"
   ]
  },
  {
   "cell_type": "markdown",
   "metadata": {
    "papermill": {
     "duration": 0.046382,
     "end_time": "2020-10-08T09:18:52.151181",
     "exception": false,
     "start_time": "2020-10-08T09:18:52.104799",
     "status": "completed"
    },
    "tags": []
   },
   "source": [
    "# Exploratory Data Analysis"
   ]
  },
  {
   "cell_type": "code",
   "execution_count": 2,
   "metadata": {
    "execution": {
     "iopub.execute_input": "2020-10-08T09:18:52.255052Z",
     "iopub.status.busy": "2020-10-08T09:18:52.254103Z",
     "iopub.status.idle": "2020-10-08T09:18:53.107692Z",
     "shell.execute_reply": "2020-10-08T09:18:53.106628Z"
    },
    "papermill": {
     "duration": 0.910507,
     "end_time": "2020-10-08T09:18:53.107980",
     "exception": false,
     "start_time": "2020-10-08T09:18:52.197473",
     "status": "completed"
    },
    "tags": []
   },
   "outputs": [],
   "source": [
    "df_train = pd.read_csv('/kaggle/input/health-insurance-cross-sell-prediction/train.csv')\n",
    "df_test = pd.read_csv('/kaggle/input/health-insurance-cross-sell-prediction/test.csv')"
   ]
  },
  {
   "cell_type": "code",
   "execution_count": 3,
   "metadata": {
    "_cell_guid": "b1076dfc-b9ad-4769-8c92-a6c4dae69d19",
    "_uuid": "8f2839f25d086af736a60e9eeb907d3b93b6e0e5",
    "execution": {
     "iopub.execute_input": "2020-10-08T09:18:53.254508Z",
     "iopub.status.busy": "2020-10-08T09:18:53.253249Z",
     "iopub.status.idle": "2020-10-08T09:18:53.269160Z",
     "shell.execute_reply": "2020-10-08T09:18:53.269870Z"
    },
    "papermill": {
     "duration": 0.095351,
     "end_time": "2020-10-08T09:18:53.270074",
     "exception": false,
     "start_time": "2020-10-08T09:18:53.174723",
     "status": "completed"
    },
    "tags": []
   },
   "outputs": [
    {
     "data": {
      "text/html": [
       "<div>\n",
       "<style scoped>\n",
       "    .dataframe tbody tr th:only-of-type {\n",
       "        vertical-align: middle;\n",
       "    }\n",
       "\n",
       "    .dataframe tbody tr th {\n",
       "        vertical-align: top;\n",
       "    }\n",
       "\n",
       "    .dataframe thead th {\n",
       "        text-align: right;\n",
       "    }\n",
       "</style>\n",
       "<table border=\"1\" class=\"dataframe\">\n",
       "  <thead>\n",
       "    <tr style=\"text-align: right;\">\n",
       "      <th></th>\n",
       "      <th>id</th>\n",
       "      <th>Gender</th>\n",
       "      <th>Age</th>\n",
       "      <th>Driving_License</th>\n",
       "      <th>Region_Code</th>\n",
       "      <th>Previously_Insured</th>\n",
       "      <th>Vehicle_Age</th>\n",
       "      <th>Vehicle_Damage</th>\n",
       "      <th>Annual_Premium</th>\n",
       "      <th>Policy_Sales_Channel</th>\n",
       "      <th>Vintage</th>\n",
       "      <th>Response</th>\n",
       "    </tr>\n",
       "  </thead>\n",
       "  <tbody>\n",
       "    <tr>\n",
       "      <th>0</th>\n",
       "      <td>1</td>\n",
       "      <td>Male</td>\n",
       "      <td>44</td>\n",
       "      <td>1</td>\n",
       "      <td>28.0</td>\n",
       "      <td>0</td>\n",
       "      <td>&gt; 2 Years</td>\n",
       "      <td>Yes</td>\n",
       "      <td>40454.0</td>\n",
       "      <td>26.0</td>\n",
       "      <td>217</td>\n",
       "      <td>1</td>\n",
       "    </tr>\n",
       "    <tr>\n",
       "      <th>1</th>\n",
       "      <td>2</td>\n",
       "      <td>Male</td>\n",
       "      <td>76</td>\n",
       "      <td>1</td>\n",
       "      <td>3.0</td>\n",
       "      <td>0</td>\n",
       "      <td>1-2 Year</td>\n",
       "      <td>No</td>\n",
       "      <td>33536.0</td>\n",
       "      <td>26.0</td>\n",
       "      <td>183</td>\n",
       "      <td>0</td>\n",
       "    </tr>\n",
       "    <tr>\n",
       "      <th>2</th>\n",
       "      <td>3</td>\n",
       "      <td>Male</td>\n",
       "      <td>47</td>\n",
       "      <td>1</td>\n",
       "      <td>28.0</td>\n",
       "      <td>0</td>\n",
       "      <td>&gt; 2 Years</td>\n",
       "      <td>Yes</td>\n",
       "      <td>38294.0</td>\n",
       "      <td>26.0</td>\n",
       "      <td>27</td>\n",
       "      <td>1</td>\n",
       "    </tr>\n",
       "    <tr>\n",
       "      <th>3</th>\n",
       "      <td>4</td>\n",
       "      <td>Male</td>\n",
       "      <td>21</td>\n",
       "      <td>1</td>\n",
       "      <td>11.0</td>\n",
       "      <td>1</td>\n",
       "      <td>&lt; 1 Year</td>\n",
       "      <td>No</td>\n",
       "      <td>28619.0</td>\n",
       "      <td>152.0</td>\n",
       "      <td>203</td>\n",
       "      <td>0</td>\n",
       "    </tr>\n",
       "    <tr>\n",
       "      <th>4</th>\n",
       "      <td>5</td>\n",
       "      <td>Female</td>\n",
       "      <td>29</td>\n",
       "      <td>1</td>\n",
       "      <td>41.0</td>\n",
       "      <td>1</td>\n",
       "      <td>&lt; 1 Year</td>\n",
       "      <td>No</td>\n",
       "      <td>27496.0</td>\n",
       "      <td>152.0</td>\n",
       "      <td>39</td>\n",
       "      <td>0</td>\n",
       "    </tr>\n",
       "  </tbody>\n",
       "</table>\n",
       "</div>"
      ],
      "text/plain": [
       "   id  Gender  Age  Driving_License  Region_Code  Previously_Insured  \\\n",
       "0   1    Male   44                1         28.0                   0   \n",
       "1   2    Male   76                1          3.0                   0   \n",
       "2   3    Male   47                1         28.0                   0   \n",
       "3   4    Male   21                1         11.0                   1   \n",
       "4   5  Female   29                1         41.0                   1   \n",
       "\n",
       "  Vehicle_Age Vehicle_Damage  Annual_Premium  Policy_Sales_Channel  Vintage  \\\n",
       "0   > 2 Years            Yes         40454.0                  26.0      217   \n",
       "1    1-2 Year             No         33536.0                  26.0      183   \n",
       "2   > 2 Years            Yes         38294.0                  26.0       27   \n",
       "3    < 1 Year             No         28619.0                 152.0      203   \n",
       "4    < 1 Year             No         27496.0                 152.0       39   \n",
       "\n",
       "   Response  \n",
       "0         1  \n",
       "1         0  \n",
       "2         1  \n",
       "3         0  \n",
       "4         0  "
      ]
     },
     "execution_count": 3,
     "metadata": {},
     "output_type": "execute_result"
    }
   ],
   "source": [
    "df_train.head()"
   ]
  },
  {
   "cell_type": "code",
   "execution_count": 4,
   "metadata": {
    "_cell_guid": "79c7e3d0-c299-4dcb-8224-4455121ee9b0",
    "_uuid": "d629ff2d2480ee46fbb7e2d37f6b5fab8052498a",
    "execution": {
     "iopub.execute_input": "2020-10-08T09:18:53.386493Z",
     "iopub.status.busy": "2020-10-08T09:18:53.385173Z",
     "iopub.status.idle": "2020-10-08T09:18:53.390167Z",
     "shell.execute_reply": "2020-10-08T09:18:53.389358Z"
    },
    "papermill": {
     "duration": 0.072064,
     "end_time": "2020-10-08T09:18:53.390316",
     "exception": false,
     "start_time": "2020-10-08T09:18:53.318252",
     "status": "completed"
    },
    "tags": []
   },
   "outputs": [
    {
     "data": {
      "text/html": [
       "<div>\n",
       "<style scoped>\n",
       "    .dataframe tbody tr th:only-of-type {\n",
       "        vertical-align: middle;\n",
       "    }\n",
       "\n",
       "    .dataframe tbody tr th {\n",
       "        vertical-align: top;\n",
       "    }\n",
       "\n",
       "    .dataframe thead th {\n",
       "        text-align: right;\n",
       "    }\n",
       "</style>\n",
       "<table border=\"1\" class=\"dataframe\">\n",
       "  <thead>\n",
       "    <tr style=\"text-align: right;\">\n",
       "      <th></th>\n",
       "      <th>id</th>\n",
       "      <th>Gender</th>\n",
       "      <th>Age</th>\n",
       "      <th>Driving_License</th>\n",
       "      <th>Region_Code</th>\n",
       "      <th>Previously_Insured</th>\n",
       "      <th>Vehicle_Age</th>\n",
       "      <th>Vehicle_Damage</th>\n",
       "      <th>Annual_Premium</th>\n",
       "      <th>Policy_Sales_Channel</th>\n",
       "      <th>Vintage</th>\n",
       "    </tr>\n",
       "  </thead>\n",
       "  <tbody>\n",
       "    <tr>\n",
       "      <th>0</th>\n",
       "      <td>381110</td>\n",
       "      <td>Male</td>\n",
       "      <td>25</td>\n",
       "      <td>1</td>\n",
       "      <td>11.0</td>\n",
       "      <td>1</td>\n",
       "      <td>&lt; 1 Year</td>\n",
       "      <td>No</td>\n",
       "      <td>35786.0</td>\n",
       "      <td>152.0</td>\n",
       "      <td>53</td>\n",
       "    </tr>\n",
       "    <tr>\n",
       "      <th>1</th>\n",
       "      <td>381111</td>\n",
       "      <td>Male</td>\n",
       "      <td>40</td>\n",
       "      <td>1</td>\n",
       "      <td>28.0</td>\n",
       "      <td>0</td>\n",
       "      <td>1-2 Year</td>\n",
       "      <td>Yes</td>\n",
       "      <td>33762.0</td>\n",
       "      <td>7.0</td>\n",
       "      <td>111</td>\n",
       "    </tr>\n",
       "    <tr>\n",
       "      <th>2</th>\n",
       "      <td>381112</td>\n",
       "      <td>Male</td>\n",
       "      <td>47</td>\n",
       "      <td>1</td>\n",
       "      <td>28.0</td>\n",
       "      <td>0</td>\n",
       "      <td>1-2 Year</td>\n",
       "      <td>Yes</td>\n",
       "      <td>40050.0</td>\n",
       "      <td>124.0</td>\n",
       "      <td>199</td>\n",
       "    </tr>\n",
       "    <tr>\n",
       "      <th>3</th>\n",
       "      <td>381113</td>\n",
       "      <td>Male</td>\n",
       "      <td>24</td>\n",
       "      <td>1</td>\n",
       "      <td>27.0</td>\n",
       "      <td>1</td>\n",
       "      <td>&lt; 1 Year</td>\n",
       "      <td>Yes</td>\n",
       "      <td>37356.0</td>\n",
       "      <td>152.0</td>\n",
       "      <td>187</td>\n",
       "    </tr>\n",
       "    <tr>\n",
       "      <th>4</th>\n",
       "      <td>381114</td>\n",
       "      <td>Male</td>\n",
       "      <td>27</td>\n",
       "      <td>1</td>\n",
       "      <td>28.0</td>\n",
       "      <td>1</td>\n",
       "      <td>&lt; 1 Year</td>\n",
       "      <td>No</td>\n",
       "      <td>59097.0</td>\n",
       "      <td>152.0</td>\n",
       "      <td>297</td>\n",
       "    </tr>\n",
       "  </tbody>\n",
       "</table>\n",
       "</div>"
      ],
      "text/plain": [
       "       id Gender  Age  Driving_License  Region_Code  Previously_Insured  \\\n",
       "0  381110   Male   25                1         11.0                   1   \n",
       "1  381111   Male   40                1         28.0                   0   \n",
       "2  381112   Male   47                1         28.0                   0   \n",
       "3  381113   Male   24                1         27.0                   1   \n",
       "4  381114   Male   27                1         28.0                   1   \n",
       "\n",
       "  Vehicle_Age Vehicle_Damage  Annual_Premium  Policy_Sales_Channel  Vintage  \n",
       "0    < 1 Year             No         35786.0                 152.0       53  \n",
       "1    1-2 Year            Yes         33762.0                   7.0      111  \n",
       "2    1-2 Year            Yes         40050.0                 124.0      199  \n",
       "3    < 1 Year            Yes         37356.0                 152.0      187  \n",
       "4    < 1 Year             No         59097.0                 152.0      297  "
      ]
     },
     "execution_count": 4,
     "metadata": {},
     "output_type": "execute_result"
    }
   ],
   "source": [
    "df_test.head()"
   ]
  },
  {
   "cell_type": "markdown",
   "metadata": {
    "papermill": {
     "duration": 0.047692,
     "end_time": "2020-10-08T09:18:53.486588",
     "exception": false,
     "start_time": "2020-10-08T09:18:53.438896",
     "status": "completed"
    },
    "tags": []
   },
   "source": [
    "The `id` column is unecessary. Let's drop it for `df_train` and `df_test`."
   ]
  },
  {
   "cell_type": "code",
   "execution_count": 5,
   "metadata": {
    "execution": {
     "iopub.execute_input": "2020-10-08T09:18:53.594768Z",
     "iopub.status.busy": "2020-10-08T09:18:53.593880Z",
     "iopub.status.idle": "2020-10-08T09:18:53.640075Z",
     "shell.execute_reply": "2020-10-08T09:18:53.639181Z"
    },
    "papermill": {
     "duration": 0.105523,
     "end_time": "2020-10-08T09:18:53.640227",
     "exception": false,
     "start_time": "2020-10-08T09:18:53.534704",
     "status": "completed"
    },
    "tags": []
   },
   "outputs": [],
   "source": [
    "df_train = df_train.drop(['id'], axis=1)\n",
    "df_test = df_test.drop(['id'], axis=1)"
   ]
  },
  {
   "cell_type": "code",
   "execution_count": 6,
   "metadata": {
    "execution": {
     "iopub.execute_input": "2020-10-08T09:18:53.756153Z",
     "iopub.status.busy": "2020-10-08T09:18:53.750624Z",
     "iopub.status.idle": "2020-10-08T09:18:53.874644Z",
     "shell.execute_reply": "2020-10-08T09:18:53.875304Z"
    },
    "papermill": {
     "duration": 0.187069,
     "end_time": "2020-10-08T09:18:53.875508",
     "exception": false,
     "start_time": "2020-10-08T09:18:53.688439",
     "status": "completed"
    },
    "tags": []
   },
   "outputs": [
    {
     "data": {
      "text/html": [
       "<div>\n",
       "<style scoped>\n",
       "    .dataframe tbody tr th:only-of-type {\n",
       "        vertical-align: middle;\n",
       "    }\n",
       "\n",
       "    .dataframe tbody tr th {\n",
       "        vertical-align: top;\n",
       "    }\n",
       "\n",
       "    .dataframe thead th {\n",
       "        text-align: right;\n",
       "    }\n",
       "</style>\n",
       "<table border=\"1\" class=\"dataframe\">\n",
       "  <thead>\n",
       "    <tr style=\"text-align: right;\">\n",
       "      <th></th>\n",
       "      <th>Age</th>\n",
       "      <th>Annual_Premium</th>\n",
       "      <th>Policy_Sales_Channel</th>\n",
       "      <th>Vintage</th>\n",
       "    </tr>\n",
       "  </thead>\n",
       "  <tbody>\n",
       "    <tr>\n",
       "      <th>count</th>\n",
       "      <td>381109.000000</td>\n",
       "      <td>381109.000000</td>\n",
       "      <td>381109.000000</td>\n",
       "      <td>381109.000000</td>\n",
       "    </tr>\n",
       "    <tr>\n",
       "      <th>mean</th>\n",
       "      <td>38.822584</td>\n",
       "      <td>30564.389581</td>\n",
       "      <td>112.034295</td>\n",
       "      <td>154.347397</td>\n",
       "    </tr>\n",
       "    <tr>\n",
       "      <th>std</th>\n",
       "      <td>15.511611</td>\n",
       "      <td>17213.155057</td>\n",
       "      <td>54.203995</td>\n",
       "      <td>83.671304</td>\n",
       "    </tr>\n",
       "    <tr>\n",
       "      <th>min</th>\n",
       "      <td>20.000000</td>\n",
       "      <td>2630.000000</td>\n",
       "      <td>1.000000</td>\n",
       "      <td>10.000000</td>\n",
       "    </tr>\n",
       "    <tr>\n",
       "      <th>25%</th>\n",
       "      <td>25.000000</td>\n",
       "      <td>24405.000000</td>\n",
       "      <td>29.000000</td>\n",
       "      <td>82.000000</td>\n",
       "    </tr>\n",
       "    <tr>\n",
       "      <th>50%</th>\n",
       "      <td>36.000000</td>\n",
       "      <td>31669.000000</td>\n",
       "      <td>133.000000</td>\n",
       "      <td>154.000000</td>\n",
       "    </tr>\n",
       "    <tr>\n",
       "      <th>75%</th>\n",
       "      <td>49.000000</td>\n",
       "      <td>39400.000000</td>\n",
       "      <td>152.000000</td>\n",
       "      <td>227.000000</td>\n",
       "    </tr>\n",
       "    <tr>\n",
       "      <th>max</th>\n",
       "      <td>85.000000</td>\n",
       "      <td>540165.000000</td>\n",
       "      <td>163.000000</td>\n",
       "      <td>299.000000</td>\n",
       "    </tr>\n",
       "  </tbody>\n",
       "</table>\n",
       "</div>"
      ],
      "text/plain": [
       "                 Age  Annual_Premium  Policy_Sales_Channel        Vintage\n",
       "count  381109.000000   381109.000000         381109.000000  381109.000000\n",
       "mean       38.822584    30564.389581            112.034295     154.347397\n",
       "std        15.511611    17213.155057             54.203995      83.671304\n",
       "min        20.000000     2630.000000              1.000000      10.000000\n",
       "25%        25.000000    24405.000000             29.000000      82.000000\n",
       "50%        36.000000    31669.000000            133.000000     154.000000\n",
       "75%        49.000000    39400.000000            152.000000     227.000000\n",
       "max        85.000000   540165.000000            163.000000     299.000000"
      ]
     },
     "execution_count": 6,
     "metadata": {},
     "output_type": "execute_result"
    }
   ],
   "source": [
    "df_train[['Age', 'Annual_Premium', 'Policy_Sales_Channel', 'Vintage']].describe()"
   ]
  },
  {
   "cell_type": "markdown",
   "metadata": {
    "papermill": {
     "duration": 0.049004,
     "end_time": "2020-10-08T09:18:53.973551",
     "exception": false,
     "start_time": "2020-10-08T09:18:53.924547",
     "status": "completed"
    },
    "tags": []
   },
   "source": [
    "## Check for NaN values"
   ]
  },
  {
   "cell_type": "code",
   "execution_count": 7,
   "metadata": {
    "execution": {
     "iopub.execute_input": "2020-10-08T09:18:54.201297Z",
     "iopub.status.busy": "2020-10-08T09:18:54.200350Z",
     "iopub.status.idle": "2020-10-08T09:18:54.224273Z",
     "shell.execute_reply": "2020-10-08T09:18:54.224838Z"
    },
    "papermill": {
     "duration": 0.202287,
     "end_time": "2020-10-08T09:18:54.225052",
     "exception": false,
     "start_time": "2020-10-08T09:18:54.022765",
     "status": "completed"
    },
    "tags": []
   },
   "outputs": [
    {
     "data": {
      "text/plain": [
       "Gender                  0\n",
       "Age                     0\n",
       "Driving_License         0\n",
       "Region_Code             0\n",
       "Previously_Insured      0\n",
       "Vehicle_Age             0\n",
       "Vehicle_Damage          0\n",
       "Annual_Premium          0\n",
       "Policy_Sales_Channel    0\n",
       "Vintage                 0\n",
       "Response                0\n",
       "dtype: int64"
      ]
     },
     "execution_count": 7,
     "metadata": {},
     "output_type": "execute_result"
    }
   ],
   "source": [
    "df_train.isna().sum()"
   ]
  },
  {
   "cell_type": "code",
   "execution_count": 8,
   "metadata": {
    "execution": {
     "iopub.execute_input": "2020-10-08T09:18:54.373453Z",
     "iopub.status.busy": "2020-10-08T09:18:54.372570Z",
     "iopub.status.idle": "2020-10-08T09:18:54.384434Z",
     "shell.execute_reply": "2020-10-08T09:18:54.384993Z"
    },
    "papermill": {
     "duration": 0.108298,
     "end_time": "2020-10-08T09:18:54.385184",
     "exception": false,
     "start_time": "2020-10-08T09:18:54.276886",
     "status": "completed"
    },
    "tags": []
   },
   "outputs": [
    {
     "data": {
      "text/plain": [
       "Gender                  0\n",
       "Age                     0\n",
       "Driving_License         0\n",
       "Region_Code             0\n",
       "Previously_Insured      0\n",
       "Vehicle_Age             0\n",
       "Vehicle_Damage          0\n",
       "Annual_Premium          0\n",
       "Policy_Sales_Channel    0\n",
       "Vintage                 0\n",
       "dtype: int64"
      ]
     },
     "execution_count": 8,
     "metadata": {},
     "output_type": "execute_result"
    }
   ],
   "source": [
    "df_test.isna().sum()"
   ]
  },
  {
   "cell_type": "markdown",
   "metadata": {
    "papermill": {
     "duration": 0.049661,
     "end_time": "2020-10-08T09:18:54.485157",
     "exception": false,
     "start_time": "2020-10-08T09:18:54.435496",
     "status": "completed"
    },
    "tags": []
   },
   "source": [
    "We do not have any. That's great!"
   ]
  },
  {
   "cell_type": "markdown",
   "metadata": {
    "papermill": {
     "duration": 0.049758,
     "end_time": "2020-10-08T09:18:54.585725",
     "exception": false,
     "start_time": "2020-10-08T09:18:54.535967",
     "status": "completed"
    },
    "tags": []
   },
   "source": [
    "## Target Value - Response"
   ]
  },
  {
   "cell_type": "code",
   "execution_count": 9,
   "metadata": {
    "execution": {
     "iopub.execute_input": "2020-10-08T09:18:54.693180Z",
     "iopub.status.busy": "2020-10-08T09:18:54.692277Z",
     "iopub.status.idle": "2020-10-08T09:18:54.704067Z",
     "shell.execute_reply": "2020-10-08T09:18:54.703249Z"
    },
    "papermill": {
     "duration": 0.068056,
     "end_time": "2020-10-08T09:18:54.704210",
     "exception": false,
     "start_time": "2020-10-08T09:18:54.636154",
     "status": "completed"
    },
    "tags": []
   },
   "outputs": [
    {
     "data": {
      "text/plain": [
       "0    334399\n",
       "1     46710\n",
       "Name: Response, dtype: int64"
      ]
     },
     "execution_count": 9,
     "metadata": {},
     "output_type": "execute_result"
    }
   ],
   "source": [
    "df_train['Response'].value_counts()"
   ]
  },
  {
   "cell_type": "code",
   "execution_count": 10,
   "metadata": {
    "_kg_hide-input": false,
    "execution": {
     "iopub.execute_input": "2020-10-08T09:18:54.814027Z",
     "iopub.status.busy": "2020-10-08T09:18:54.812540Z",
     "iopub.status.idle": "2020-10-08T09:18:55.058549Z",
     "shell.execute_reply": "2020-10-08T09:18:55.057909Z"
    },
    "papermill": {
     "duration": 0.303764,
     "end_time": "2020-10-08T09:18:55.058750",
     "exception": false,
     "start_time": "2020-10-08T09:18:54.754986",
     "status": "completed"
    },
    "tags": []
   },
   "outputs": [
    {
     "data": {
      "text/plain": [
       "Text(0.5, 1.0, 'Response Distribution')"
      ]
     },
     "execution_count": 10,
     "metadata": {},
     "output_type": "execute_result"
    },
    {
     "data": {
      "image/png": "[encoded data removed]",
      "text/plain": [
       "<Figure size 432x288 with 1 Axes>"
      ]
     },
     "metadata": {},
     "output_type": "display_data"
    }
   ],
   "source": [
    "b = sns.countplot(x='Response', data=df_train)\n",
    "b.set_title(\"Response Distribution\")"
   ]
  },
  {
   "cell_type": "markdown",
   "metadata": {
    "papermill": {
     "duration": 0.053044,
     "end_time": "2020-10-08T09:18:55.164626",
     "exception": false,
     "start_time": "2020-10-08T09:18:55.111582",
     "status": "completed"
    },
    "tags": []
   },
   "source": [
    "We can see that we have a lot more customers that are not interested. This should be taken into account when dividing the data into train and test sets for the modeling."
   ]
  },
  {
   "cell_type": "markdown",
   "metadata": {
    "papermill": {
     "duration": 0.052073,
     "end_time": "2020-10-08T09:18:55.269177",
     "exception": false,
     "start_time": "2020-10-08T09:18:55.217104",
     "status": "completed"
    },
    "tags": []
   },
   "source": [
    "## Gender"
   ]
  },
  {
   "cell_type": "code",
   "execution_count": 11,
   "metadata": {
    "execution": {
     "iopub.execute_input": "2020-10-08T09:18:55.408563Z",
     "iopub.status.busy": "2020-10-08T09:18:55.407322Z",
     "iopub.status.idle": "2020-10-08T09:18:55.692019Z",
     "shell.execute_reply": "2020-10-08T09:18:55.691327Z"
    },
    "papermill": {
     "duration": 0.370725,
     "end_time": "2020-10-08T09:18:55.692171",
     "exception": false,
     "start_time": "2020-10-08T09:18:55.321446",
     "status": "completed"
    },
    "tags": []
   },
   "outputs": [
    {
     "data": {
      "image/png": "[encoded data removed]",
      "text/plain": [
       "<Figure size 432x288 with 1 Axes>"
      ]
     },
     "metadata": {},
     "output_type": "display_data"
    }
   ],
   "source": [
    "b = sns.countplot(x='Gender', data=df_train)\n",
    "b.set_title(\"Gender Distribution\");"
   ]
  },
  {
   "cell_type": "code",
   "execution_count": 12,
   "metadata": {
    "_kg_hide-input": false,
    "execution": {
     "iopub.execute_input": "2020-10-08T09:18:55.811985Z",
     "iopub.status.busy": "2020-10-08T09:18:55.810571Z",
     "iopub.status.idle": "2020-10-08T09:18:56.318183Z",
     "shell.execute_reply": "2020-10-08T09:18:56.317545Z"
    },
    "papermill": {
     "duration": 0.570957,
     "end_time": "2020-10-08T09:18:56.318351",
     "exception": false,
     "start_time": "2020-10-08T09:18:55.747394",
     "status": "completed"
    },
    "tags": []
   },
   "outputs": [
    {
     "data": {
      "image/png": "[encoded data removed]",
      "text/plain": [
       "<Figure size 720x432 with 1 Axes>"
      ]
     },
     "metadata": {},
     "output_type": "display_data"
    }
   ],
   "source": [
    "pd.crosstab(df_train['Response'], df_train['Gender']).plot(kind=\"bar\", figsize=(10,6))\n",
    "\n",
    "plt.title(\"Response distribution for Gender\")\n",
    "plt.xlabel(\"0 = Customer is Not interested, 1 = Customer is interested\")\n",
    "plt.ylabel(\"Amount\")\n",
    "plt.legend([\"Female\", \"Male\"])\n",
    "plt.xticks(rotation=0);"
   ]
  },
  {
   "cell_type": "markdown",
   "metadata": {
    "papermill": {
     "duration": 0.054873,
     "end_time": "2020-10-08T09:18:56.427804",
     "exception": false,
     "start_time": "2020-10-08T09:18:56.372931",
     "status": "completed"
    },
    "tags": []
   },
   "source": [
    "Both genders seem to be pretty similar in their response."
   ]
  },
  {
   "cell_type": "markdown",
   "metadata": {
    "papermill": {
     "duration": 0.05399,
     "end_time": "2020-10-08T09:18:56.536172",
     "exception": false,
     "start_time": "2020-10-08T09:18:56.482182",
     "status": "completed"
    },
    "tags": []
   },
   "source": [
    "## Age"
   ]
  },
  {
   "cell_type": "code",
   "execution_count": 13,
   "metadata": {
    "execution": {
     "iopub.execute_input": "2020-10-08T09:18:56.657751Z",
     "iopub.status.busy": "2020-10-08T09:18:56.652199Z",
     "iopub.status.idle": "2020-10-08T09:18:57.203127Z",
     "shell.execute_reply": "2020-10-08T09:18:57.202387Z"
    },
    "papermill": {
     "duration": 0.613029,
     "end_time": "2020-10-08T09:18:57.203297",
     "exception": false,
     "start_time": "2020-10-08T09:18:56.590268",
     "status": "completed"
    },
    "tags": []
   },
   "outputs": [
    {
     "data": {
      "image/png": "[encoded data removed]",
      "text/plain": [
       "<Figure size 432x288 with 1 Axes>"
      ]
     },
     "metadata": {},
     "output_type": "display_data"
    }
   ],
   "source": [
    "b = sns.distplot(df_train['Age'])\n",
    "b.set_title(\"Age Distribution\");"
   ]
  },
  {
   "cell_type": "code",
   "execution_count": 14,
   "metadata": {
    "execution": {
     "iopub.execute_input": "2020-10-08T09:18:57.328311Z",
     "iopub.status.busy": "2020-10-08T09:18:57.321330Z",
     "iopub.status.idle": "2020-10-08T09:18:57.482128Z",
     "shell.execute_reply": "2020-10-08T09:18:57.481481Z"
    },
    "papermill": {
     "duration": 0.222676,
     "end_time": "2020-10-08T09:18:57.482280",
     "exception": false,
     "start_time": "2020-10-08T09:18:57.259604",
     "status": "completed"
    },
    "tags": []
   },
   "outputs": [
    {
     "data": {
      "image/png": "[encoded data removed]",
      "text/plain": [
       "<Figure size 432x288 with 1 Axes>"
      ]
     },
     "metadata": {},
     "output_type": "display_data"
    }
   ],
   "source": [
    "b = sns.boxplot(y = 'Age', data = df_train)\n",
    "b.set_title(\"Age Distribution\");"
   ]
  },
  {
   "cell_type": "code",
   "execution_count": 15,
   "metadata": {
    "execution": {
     "iopub.execute_input": "2020-10-08T09:18:57.603622Z",
     "iopub.status.busy": "2020-10-08T09:18:57.602788Z",
     "iopub.status.idle": "2020-10-08T09:18:57.826126Z",
     "shell.execute_reply": "2020-10-08T09:18:57.825302Z"
    },
    "papermill": {
     "duration": 0.287028,
     "end_time": "2020-10-08T09:18:57.826275",
     "exception": false,
     "start_time": "2020-10-08T09:18:57.539247",
     "status": "completed"
    },
    "tags": []
   },
   "outputs": [
    {
     "data": {
      "image/png": "[encoded data removed]",
      "text/plain": [
       "<Figure size 432x288 with 1 Axes>"
      ]
     },
     "metadata": {},
     "output_type": "display_data"
    }
   ],
   "source": [
    "b = sns.boxplot(y='Age', x='Response', data=df_train);\n",
    "b.set_title(\"Age Distribution for each Response\");"
   ]
  },
  {
   "cell_type": "markdown",
   "metadata": {
    "papermill": {
     "duration": 0.057892,
     "end_time": "2020-10-08T09:18:57.941914",
     "exception": false,
     "start_time": "2020-10-08T09:18:57.884022",
     "status": "completed"
    },
    "tags": []
   },
   "source": [
    "### Driving_License"
   ]
  },
  {
   "cell_type": "code",
   "execution_count": 16,
   "metadata": {
    "execution": {
     "iopub.execute_input": "2020-10-08T09:18:58.065803Z",
     "iopub.status.busy": "2020-10-08T09:18:58.064937Z",
     "iopub.status.idle": "2020-10-08T09:18:58.076677Z",
     "shell.execute_reply": "2020-10-08T09:18:58.075996Z"
    },
    "papermill": {
     "duration": 0.07647,
     "end_time": "2020-10-08T09:18:58.076910",
     "exception": false,
     "start_time": "2020-10-08T09:18:58.000440",
     "status": "completed"
    },
    "tags": []
   },
   "outputs": [
    {
     "data": {
      "text/plain": [
       "1    380297\n",
       "0       812\n",
       "Name: Driving_License, dtype: int64"
      ]
     },
     "execution_count": 16,
     "metadata": {},
     "output_type": "execute_result"
    }
   ],
   "source": [
    "df_train['Driving_License'].value_counts()"
   ]
  },
  {
   "cell_type": "markdown",
   "metadata": {
    "papermill": {
     "duration": 0.059811,
     "end_time": "2020-10-08T09:18:58.195849",
     "exception": false,
     "start_time": "2020-10-08T09:18:58.136038",
     "status": "completed"
    },
    "tags": []
   },
   "source": [
    "There are only a small number of people with no driving license. This might mess up our models. Therefore, we should get drop `Driving_License` for now."
   ]
  },
  {
   "cell_type": "code",
   "execution_count": 17,
   "metadata": {
    "execution": {
     "iopub.execute_input": "2020-10-08T09:18:58.321961Z",
     "iopub.status.busy": "2020-10-08T09:18:58.321063Z",
     "iopub.status.idle": "2020-10-08T09:18:58.364633Z",
     "shell.execute_reply": "2020-10-08T09:18:58.363880Z"
    },
    "papermill": {
     "duration": 0.109065,
     "end_time": "2020-10-08T09:18:58.364797",
     "exception": false,
     "start_time": "2020-10-08T09:18:58.255732",
     "status": "completed"
    },
    "tags": []
   },
   "outputs": [],
   "source": [
    "df_train = df_train.drop(\"Driving_License\", axis=1)\n",
    "df_test = df_test.drop(\"Driving_License\", axis=1)"
   ]
  },
  {
   "cell_type": "markdown",
   "metadata": {
    "papermill": {
     "duration": 0.058166,
     "end_time": "2020-10-08T09:18:58.481717",
     "exception": false,
     "start_time": "2020-10-08T09:18:58.423551",
     "status": "completed"
    },
    "tags": []
   },
   "source": [
    "### Region_Code"
   ]
  },
  {
   "cell_type": "code",
   "execution_count": 18,
   "metadata": {
    "_kg_hide-input": false,
    "execution": {
     "iopub.execute_input": "2020-10-08T09:18:58.607955Z",
     "iopub.status.busy": "2020-10-08T09:18:58.606914Z",
     "iopub.status.idle": "2020-10-08T09:18:59.092836Z",
     "shell.execute_reply": "2020-10-08T09:18:59.093501Z"
    },
    "papermill": {
     "duration": 0.553363,
     "end_time": "2020-10-08T09:18:59.093713",
     "exception": false,
     "start_time": "2020-10-08T09:18:58.540350",
     "status": "completed"
    },
    "tags": []
   },
   "outputs": [
    {
     "data": {
      "image/png": "[encoded data removed]",
      "text/plain": [
       "<Figure size 1440x720 with 1 Axes>"
      ]
     },
     "metadata": {},
     "output_type": "display_data"
    }
   ],
   "source": [
    "df_train['Region_Code'].value_counts().head(30).plot(kind='barh', figsize=(20,10), title=\"Region_Code distribution in df_train\");"
   ]
  },
  {
   "cell_type": "markdown",
   "metadata": {
    "papermill": {
     "duration": 0.062708,
     "end_time": "2020-10-08T09:18:59.217268",
     "exception": false,
     "start_time": "2020-10-08T09:18:59.154560",
     "status": "completed"
    },
    "tags": []
   },
   "source": [
    "### Previously_Insured"
   ]
  },
  {
   "cell_type": "code",
   "execution_count": 19,
   "metadata": {
    "execution": {
     "iopub.execute_input": "2020-10-08T09:18:59.344493Z",
     "iopub.status.busy": "2020-10-08T09:18:59.343617Z",
     "iopub.status.idle": "2020-10-08T09:18:59.355084Z",
     "shell.execute_reply": "2020-10-08T09:18:59.354247Z"
    },
    "papermill": {
     "duration": 0.07754,
     "end_time": "2020-10-08T09:18:59.355230",
     "exception": false,
     "start_time": "2020-10-08T09:18:59.277690",
     "status": "completed"
    },
    "tags": []
   },
   "outputs": [
    {
     "data": {
      "text/plain": [
       "0    206481\n",
       "1    174628\n",
       "Name: Previously_Insured, dtype: int64"
      ]
     },
     "execution_count": 19,
     "metadata": {},
     "output_type": "execute_result"
    }
   ],
   "source": [
    "df_train['Previously_Insured'].value_counts()"
   ]
  },
  {
   "cell_type": "code",
   "execution_count": 20,
   "metadata": {
    "execution": {
     "iopub.execute_input": "2020-10-08T09:18:59.485040Z",
     "iopub.status.busy": "2020-10-08T09:18:59.484152Z",
     "iopub.status.idle": "2020-10-08T09:18:59.574344Z",
     "shell.execute_reply": "2020-10-08T09:18:59.573485Z"
    },
    "papermill": {
     "duration": 0.158067,
     "end_time": "2020-10-08T09:18:59.574491",
     "exception": false,
     "start_time": "2020-10-08T09:18:59.416424",
     "status": "completed"
    },
    "tags": []
   },
   "outputs": [
    {
     "data": {
      "text/html": [
       "<div>\n",
       "<style scoped>\n",
       "    .dataframe tbody tr th:only-of-type {\n",
       "        vertical-align: middle;\n",
       "    }\n",
       "\n",
       "    .dataframe tbody tr th {\n",
       "        vertical-align: top;\n",
       "    }\n",
       "\n",
       "    .dataframe thead th {\n",
       "        text-align: right;\n",
       "    }\n",
       "</style>\n",
       "<table border=\"1\" class=\"dataframe\">\n",
       "  <thead>\n",
       "    <tr style=\"text-align: right;\">\n",
       "      <th>Previously_Insured</th>\n",
       "      <th>0</th>\n",
       "      <th>1</th>\n",
       "    </tr>\n",
       "    <tr>\n",
       "      <th>Response</th>\n",
       "      <th></th>\n",
       "      <th></th>\n",
       "    </tr>\n",
       "  </thead>\n",
       "  <tbody>\n",
       "    <tr>\n",
       "      <th>0</th>\n",
       "      <td>159929</td>\n",
       "      <td>174470</td>\n",
       "    </tr>\n",
       "    <tr>\n",
       "      <th>1</th>\n",
       "      <td>46552</td>\n",
       "      <td>158</td>\n",
       "    </tr>\n",
       "  </tbody>\n",
       "</table>\n",
       "</div>"
      ],
      "text/plain": [
       "Previously_Insured       0       1\n",
       "Response                          \n",
       "0                   159929  174470\n",
       "1                    46552     158"
      ]
     },
     "execution_count": 20,
     "metadata": {},
     "output_type": "execute_result"
    }
   ],
   "source": [
    "pd.crosstab(df_train['Response'], df_train['Previously_Insured'])"
   ]
  },
  {
   "cell_type": "code",
   "execution_count": 21,
   "metadata": {
    "_kg_hide-input": false,
    "execution": {
     "iopub.execute_input": "2020-10-08T09:18:59.707690Z",
     "iopub.status.busy": "2020-10-08T09:18:59.706822Z",
     "iopub.status.idle": "2020-10-08T09:18:59.992282Z",
     "shell.execute_reply": "2020-10-08T09:18:59.991465Z"
    },
    "papermill": {
     "duration": 0.356046,
     "end_time": "2020-10-08T09:18:59.992441",
     "exception": false,
     "start_time": "2020-10-08T09:18:59.636395",
     "status": "completed"
    },
    "tags": []
   },
   "outputs": [
    {
     "data": {
      "image/png": "[encoded data removed]",
      "text/plain": [
       "<Figure size 720x432 with 1 Axes>"
      ]
     },
     "metadata": {},
     "output_type": "display_data"
    }
   ],
   "source": [
    "pd.crosstab(df_train['Response'], df_train['Previously_Insured']).plot(kind=\"bar\", figsize=(10,6))\n",
    "\n",
    "plt.title(\"Response distribution for Previously_Insured\")\n",
    "plt.xlabel(\"0 = Customer is Not interested, 1 = Customer is interested\")\n",
    "plt.ylabel(\"Amount\")\n",
    "plt.legend([\"Customer doesn't have Vehicle Insurance\", \"Customer already has Vehicle Insurance\"])\n",
    "plt.xticks(rotation=0);"
   ]
  },
  {
   "cell_type": "markdown",
   "metadata": {
    "papermill": {
     "duration": 0.068942,
     "end_time": "2020-10-08T09:19:00.126543",
     "exception": false,
     "start_time": "2020-10-08T09:19:00.057601",
     "status": "completed"
    },
    "tags": []
   },
   "source": [
    "We can see that customers that already have a vehicle insurance with only very little exception are not interested."
   ]
  },
  {
   "cell_type": "markdown",
   "metadata": {
    "papermill": {
     "duration": 0.063202,
     "end_time": "2020-10-08T09:19:00.254207",
     "exception": false,
     "start_time": "2020-10-08T09:19:00.191005",
     "status": "completed"
    },
    "tags": []
   },
   "source": [
    "### Vehicle_Age"
   ]
  },
  {
   "cell_type": "code",
   "execution_count": 22,
   "metadata": {
    "execution": {
     "iopub.execute_input": "2020-10-08T09:19:00.490157Z",
     "iopub.status.busy": "2020-10-08T09:19:00.448995Z",
     "iopub.status.idle": "2020-10-08T09:19:00.499327Z",
     "shell.execute_reply": "2020-10-08T09:19:00.498660Z"
    },
    "papermill": {
     "duration": 0.18238,
     "end_time": "2020-10-08T09:19:00.499500",
     "exception": false,
     "start_time": "2020-10-08T09:19:00.317120",
     "status": "completed"
    },
    "tags": []
   },
   "outputs": [
    {
     "data": {
      "text/plain": [
       "1-2 Year     200316\n",
       "< 1 Year     164786\n",
       "> 2 Years     16007\n",
       "Name: Vehicle_Age, dtype: int64"
      ]
     },
     "execution_count": 22,
     "metadata": {},
     "output_type": "execute_result"
    }
   ],
   "source": [
    "df_train['Vehicle_Age'].value_counts()"
   ]
  },
  {
   "cell_type": "code",
   "execution_count": 23,
   "metadata": {
    "_kg_hide-input": false,
    "execution": {
     "iopub.execute_input": "2020-10-08T09:19:00.637358Z",
     "iopub.status.busy": "2020-10-08T09:19:00.636377Z",
     "iopub.status.idle": "2020-10-08T09:19:00.974090Z",
     "shell.execute_reply": "2020-10-08T09:19:00.973272Z"
    },
    "papermill": {
     "duration": 0.410355,
     "end_time": "2020-10-08T09:19:00.974242",
     "exception": false,
     "start_time": "2020-10-08T09:19:00.563887",
     "status": "completed"
    },
    "tags": []
   },
   "outputs": [
    {
     "data": {
      "image/png": "[encoded data removed]",
      "text/plain": [
       "<Figure size 720x432 with 1 Axes>"
      ]
     },
     "metadata": {},
     "output_type": "display_data"
    }
   ],
   "source": [
    "pd.crosstab(df_train['Response'], df_train['Vehicle_Age']).plot(kind=\"bar\", figsize=(10,6))\n",
    "\n",
    "plt.title(\"Response distribution for Vehicle_Age\")\n",
    "plt.xlabel(\"0 = Customer is Not interested, 1 = Customer is interested\")\n",
    "plt.ylabel(\"Amount\")\n",
    "plt.legend([\"1-2 Year\", \"< 1 Year\", \"> 2 Years\"])\n",
    "plt.xticks(rotation=0);"
   ]
  },
  {
   "cell_type": "markdown",
   "metadata": {
    "papermill": {
     "duration": 0.13837,
     "end_time": "2020-10-08T09:19:01.178017",
     "exception": false,
     "start_time": "2020-10-08T09:19:01.039647",
     "status": "completed"
    },
    "tags": []
   },
   "source": [
    "### Vehicle_Damage"
   ]
  },
  {
   "cell_type": "code",
   "execution_count": 24,
   "metadata": {
    "execution": {
     "iopub.execute_input": "2020-10-08T09:19:01.419348Z",
     "iopub.status.busy": "2020-10-08T09:19:01.418401Z",
     "iopub.status.idle": "2020-10-08T09:19:01.428024Z",
     "shell.execute_reply": "2020-10-08T09:19:01.427348Z"
    },
    "papermill": {
     "duration": 0.185036,
     "end_time": "2020-10-08T09:19:01.428183",
     "exception": false,
     "start_time": "2020-10-08T09:19:01.243147",
     "status": "completed"
    },
    "tags": []
   },
   "outputs": [
    {
     "data": {
      "text/plain": [
       "Yes    192413\n",
       "No     188696\n",
       "Name: Vehicle_Damage, dtype: int64"
      ]
     },
     "execution_count": 24,
     "metadata": {},
     "output_type": "execute_result"
    }
   ],
   "source": [
    "df_train['Vehicle_Damage'].value_counts()"
   ]
  },
  {
   "cell_type": "code",
   "execution_count": 25,
   "metadata": {
    "execution": {
     "iopub.execute_input": "2020-10-08T09:19:01.568542Z",
     "iopub.status.busy": "2020-10-08T09:19:01.567615Z",
     "iopub.status.idle": "2020-10-08T09:19:01.666520Z",
     "shell.execute_reply": "2020-10-08T09:19:01.665816Z"
    },
    "papermill": {
     "duration": 0.172067,
     "end_time": "2020-10-08T09:19:01.666662",
     "exception": false,
     "start_time": "2020-10-08T09:19:01.494595",
     "status": "completed"
    },
    "tags": []
   },
   "outputs": [
    {
     "data": {
      "text/html": [
       "<div>\n",
       "<style scoped>\n",
       "    .dataframe tbody tr th:only-of-type {\n",
       "        vertical-align: middle;\n",
       "    }\n",
       "\n",
       "    .dataframe tbody tr th {\n",
       "        vertical-align: top;\n",
       "    }\n",
       "\n",
       "    .dataframe thead th {\n",
       "        text-align: right;\n",
       "    }\n",
       "</style>\n",
       "<table border=\"1\" class=\"dataframe\">\n",
       "  <thead>\n",
       "    <tr style=\"text-align: right;\">\n",
       "      <th>Vehicle_Damage</th>\n",
       "      <th>No</th>\n",
       "      <th>Yes</th>\n",
       "    </tr>\n",
       "    <tr>\n",
       "      <th>Response</th>\n",
       "      <th></th>\n",
       "      <th></th>\n",
       "    </tr>\n",
       "  </thead>\n",
       "  <tbody>\n",
       "    <tr>\n",
       "      <th>0</th>\n",
       "      <td>187714</td>\n",
       "      <td>146685</td>\n",
       "    </tr>\n",
       "    <tr>\n",
       "      <th>1</th>\n",
       "      <td>982</td>\n",
       "      <td>45728</td>\n",
       "    </tr>\n",
       "  </tbody>\n",
       "</table>\n",
       "</div>"
      ],
      "text/plain": [
       "Vehicle_Damage      No     Yes\n",
       "Response                      \n",
       "0               187714  146685\n",
       "1                  982   45728"
      ]
     },
     "execution_count": 25,
     "metadata": {},
     "output_type": "execute_result"
    }
   ],
   "source": [
    "pd.crosstab(df_train['Response'], df_train['Vehicle_Damage'])"
   ]
  },
  {
   "cell_type": "code",
   "execution_count": 26,
   "metadata": {
    "_kg_hide-input": false,
    "execution": {
     "iopub.execute_input": "2020-10-08T09:19:01.811449Z",
     "iopub.status.busy": "2020-10-08T09:19:01.810567Z",
     "iopub.status.idle": "2020-10-08T09:19:02.115502Z",
     "shell.execute_reply": "2020-10-08T09:19:02.114759Z"
    },
    "papermill": {
     "duration": 0.380959,
     "end_time": "2020-10-08T09:19:02.115662",
     "exception": false,
     "start_time": "2020-10-08T09:19:01.734703",
     "status": "completed"
    },
    "tags": []
   },
   "outputs": [
    {
     "data": {
      "image/png": "[encoded data removed]",
      "text/plain": [
       "<Figure size 720x432 with 1 Axes>"
      ]
     },
     "metadata": {},
     "output_type": "display_data"
    }
   ],
   "source": [
    "pd.crosstab(df_train['Response'], df_train['Vehicle_Damage']).plot(kind=\"bar\", figsize=(10,6))\n",
    "\n",
    "plt.title(\"Response distribution for Vehicle_Damage\")\n",
    "plt.xlabel(\"0 = Customer is Not interested, 1 = Customer is interested\")\n",
    "plt.ylabel(\"Amount\")\n",
    "plt.legend([\"Vehicle Damage\", \"No Vehicle Damage\"])\n",
    "plt.xticks(rotation=0);"
   ]
  },
  {
   "cell_type": "markdown",
   "metadata": {
    "papermill": {
     "duration": 0.068197,
     "end_time": "2020-10-08T09:19:02.253475",
     "exception": false,
     "start_time": "2020-10-08T09:19:02.185278",
     "status": "completed"
    },
    "tags": []
   },
   "source": [
    "### Annual_Premium"
   ]
  },
  {
   "cell_type": "code",
   "execution_count": 27,
   "metadata": {
    "execution": {
     "iopub.execute_input": "2020-10-08T09:19:02.397501Z",
     "iopub.status.busy": "2020-10-08T09:19:02.396594Z",
     "iopub.status.idle": "2020-10-08T09:19:02.422373Z",
     "shell.execute_reply": "2020-10-08T09:19:02.421599Z"
    },
    "papermill": {
     "duration": 0.100135,
     "end_time": "2020-10-08T09:19:02.422517",
     "exception": false,
     "start_time": "2020-10-08T09:19:02.322382",
     "status": "completed"
    },
    "tags": []
   },
   "outputs": [
    {
     "data": {
      "text/plain": [
       "count    381109.000000\n",
       "mean      30564.389581\n",
       "std       17213.155057\n",
       "min        2630.000000\n",
       "25%       24405.000000\n",
       "50%       31669.000000\n",
       "75%       39400.000000\n",
       "max      540165.000000\n",
       "Name: Annual_Premium, dtype: float64"
      ]
     },
     "execution_count": 27,
     "metadata": {},
     "output_type": "execute_result"
    }
   ],
   "source": [
    "df_train['Annual_Premium'].describe()"
   ]
  },
  {
   "cell_type": "code",
   "execution_count": 28,
   "metadata": {
    "execution": {
     "iopub.execute_input": "2020-10-08T09:19:02.566570Z",
     "iopub.status.busy": "2020-10-08T09:19:02.565752Z",
     "iopub.status.idle": "2020-10-08T09:19:02.801637Z",
     "shell.execute_reply": "2020-10-08T09:19:02.800837Z"
    },
    "papermill": {
     "duration": 0.310791,
     "end_time": "2020-10-08T09:19:02.801777",
     "exception": false,
     "start_time": "2020-10-08T09:19:02.490986",
     "status": "completed"
    },
    "tags": []
   },
   "outputs": [
    {
     "data": {
      "image/png": "[encoded data removed]",
      "text/plain": [
       "<Figure size 432x288 with 1 Axes>"
      ]
     },
     "metadata": {},
     "output_type": "display_data"
    }
   ],
   "source": [
    "b = sns.boxplot(y='Annual_Premium', x='Response', data=df_train);\n",
    "b.set_title(\"Annual_Premium Distribution for each Response\");"
   ]
  },
  {
   "cell_type": "markdown",
   "metadata": {
    "papermill": {
     "duration": 0.06918,
     "end_time": "2020-10-08T09:19:02.940680",
     "exception": false,
     "start_time": "2020-10-08T09:19:02.871500",
     "status": "completed"
    },
    "tags": []
   },
   "source": [
    "### Policy_Sales_Channel"
   ]
  },
  {
   "cell_type": "code",
   "execution_count": 29,
   "metadata": {
    "execution": {
     "iopub.execute_input": "2020-10-08T09:19:03.099457Z",
     "iopub.status.busy": "2020-10-08T09:19:03.098446Z",
     "iopub.status.idle": "2020-10-08T09:19:03.123226Z",
     "shell.execute_reply": "2020-10-08T09:19:03.122437Z"
    },
    "papermill": {
     "duration": 0.112064,
     "end_time": "2020-10-08T09:19:03.123365",
     "exception": false,
     "start_time": "2020-10-08T09:19:03.011301",
     "status": "completed"
    },
    "tags": []
   },
   "outputs": [
    {
     "data": {
      "text/plain": [
       "count    381109.000000\n",
       "mean        112.034295\n",
       "std          54.203995\n",
       "min           1.000000\n",
       "25%          29.000000\n",
       "50%         133.000000\n",
       "75%         152.000000\n",
       "max         163.000000\n",
       "Name: Policy_Sales_Channel, dtype: float64"
      ]
     },
     "execution_count": 29,
     "metadata": {},
     "output_type": "execute_result"
    }
   ],
   "source": [
    "df_train['Policy_Sales_Channel'].describe()"
   ]
  },
  {
   "cell_type": "code",
   "execution_count": 30,
   "metadata": {
    "execution": {
     "iopub.execute_input": "2020-10-08T09:19:03.275961Z",
     "iopub.status.busy": "2020-10-08T09:19:03.274635Z",
     "iopub.status.idle": "2020-10-08T09:19:03.498280Z",
     "shell.execute_reply": "2020-10-08T09:19:03.497591Z"
    },
    "papermill": {
     "duration": 0.30177,
     "end_time": "2020-10-08T09:19:03.498424",
     "exception": false,
     "start_time": "2020-10-08T09:19:03.196654",
     "status": "completed"
    },
    "tags": []
   },
   "outputs": [
    {
     "data": {
      "image/png": "[encoded data removed]",
      "text/plain": [
       "<Figure size 432x288 with 1 Axes>"
      ]
     },
     "metadata": {},
     "output_type": "display_data"
    }
   ],
   "source": [
    "b = sns.boxplot(y='Policy_Sales_Channel', x='Response', data=df_train);\n",
    "b.set_title(\"Policy_Sales_Channel Distribution for each Response\");"
   ]
  },
  {
   "cell_type": "markdown",
   "metadata": {
    "papermill": {
     "duration": 0.070681,
     "end_time": "2020-10-08T09:19:03.640447",
     "exception": false,
     "start_time": "2020-10-08T09:19:03.569766",
     "status": "completed"
    },
    "tags": []
   },
   "source": [
    "### Vintage"
   ]
  },
  {
   "cell_type": "code",
   "execution_count": 31,
   "metadata": {
    "execution": {
     "iopub.execute_input": "2020-10-08T09:19:03.793763Z",
     "iopub.status.busy": "2020-10-08T09:19:03.792944Z",
     "iopub.status.idle": "2020-10-08T09:19:03.817328Z",
     "shell.execute_reply": "2020-10-08T09:19:03.816501Z"
    },
    "papermill": {
     "duration": 0.104483,
     "end_time": "2020-10-08T09:19:03.817489",
     "exception": false,
     "start_time": "2020-10-08T09:19:03.713006",
     "status": "completed"
    },
    "tags": []
   },
   "outputs": [
    {
     "data": {
      "text/plain": [
       "count    381109.000000\n",
       "mean        154.347397\n",
       "std          83.671304\n",
       "min          10.000000\n",
       "25%          82.000000\n",
       "50%         154.000000\n",
       "75%         227.000000\n",
       "max         299.000000\n",
       "Name: Vintage, dtype: float64"
      ]
     },
     "execution_count": 31,
     "metadata": {},
     "output_type": "execute_result"
    }
   ],
   "source": [
    "df_train['Vintage'].describe()"
   ]
  },
  {
   "cell_type": "code",
   "execution_count": 32,
   "metadata": {
    "execution": {
     "iopub.execute_input": "2020-10-08T09:19:03.969611Z",
     "iopub.status.busy": "2020-10-08T09:19:03.968745Z",
     "iopub.status.idle": "2020-10-08T09:19:04.242457Z",
     "shell.execute_reply": "2020-10-08T09:19:04.243165Z"
    },
    "papermill": {
     "duration": 0.353172,
     "end_time": "2020-10-08T09:19:04.243354",
     "exception": false,
     "start_time": "2020-10-08T09:19:03.890182",
     "status": "completed"
    },
    "tags": []
   },
   "outputs": [
    {
     "data": {
      "image/png": "[encoded data removed]",
      "text/plain": [
       "<Figure size 432x288 with 1 Axes>"
      ]
     },
     "metadata": {},
     "output_type": "display_data"
    }
   ],
   "source": [
    "b = sns.boxplot(y='Vintage', x='Response', data=df_train);\n",
    "b.set_title(\"Vintage Distribution for each Response\");"
   ]
  },
  {
   "cell_type": "markdown",
   "metadata": {
    "papermill": {
     "duration": 0.072255,
     "end_time": "2020-10-08T09:19:04.390193",
     "exception": false,
     "start_time": "2020-10-08T09:19:04.317938",
     "status": "completed"
    },
    "tags": []
   },
   "source": [
    "## Feature Engineering"
   ]
  },
  {
   "cell_type": "markdown",
   "metadata": {
    "papermill": {
     "duration": 0.072236,
     "end_time": "2020-10-08T09:19:04.535067",
     "exception": false,
     "start_time": "2020-10-08T09:19:04.462831",
     "status": "completed"
    },
    "tags": []
   },
   "source": [
    "Let's take a look at our data again."
   ]
  },
  {
   "cell_type": "code",
   "execution_count": 33,
   "metadata": {
    "execution": {
     "iopub.execute_input": "2020-10-08T09:19:04.699443Z",
     "iopub.status.busy": "2020-10-08T09:19:04.698273Z",
     "iopub.status.idle": "2020-10-08T09:19:04.703415Z",
     "shell.execute_reply": "2020-10-08T09:19:04.702803Z"
    },
    "papermill": {
     "duration": 0.096221,
     "end_time": "2020-10-08T09:19:04.703559",
     "exception": false,
     "start_time": "2020-10-08T09:19:04.607338",
     "status": "completed"
    },
    "tags": []
   },
   "outputs": [
    {
     "data": {
      "text/html": [
       "<div>\n",
       "<style scoped>\n",
       "    .dataframe tbody tr th:only-of-type {\n",
       "        vertical-align: middle;\n",
       "    }\n",
       "\n",
       "    .dataframe tbody tr th {\n",
       "        vertical-align: top;\n",
       "    }\n",
       "\n",
       "    .dataframe thead th {\n",
       "        text-align: right;\n",
       "    }\n",
       "</style>\n",
       "<table border=\"1\" class=\"dataframe\">\n",
       "  <thead>\n",
       "    <tr style=\"text-align: right;\">\n",
       "      <th></th>\n",
       "      <th>Gender</th>\n",
       "      <th>Age</th>\n",
       "      <th>Region_Code</th>\n",
       "      <th>Previously_Insured</th>\n",
       "      <th>Vehicle_Age</th>\n",
       "      <th>Vehicle_Damage</th>\n",
       "      <th>Annual_Premium</th>\n",
       "      <th>Policy_Sales_Channel</th>\n",
       "      <th>Vintage</th>\n",
       "      <th>Response</th>\n",
       "    </tr>\n",
       "  </thead>\n",
       "  <tbody>\n",
       "    <tr>\n",
       "      <th>0</th>\n",
       "      <td>Male</td>\n",
       "      <td>44</td>\n",
       "      <td>28.0</td>\n",
       "      <td>0</td>\n",
       "      <td>&gt; 2 Years</td>\n",
       "      <td>Yes</td>\n",
       "      <td>40454.0</td>\n",
       "      <td>26.0</td>\n",
       "      <td>217</td>\n",
       "      <td>1</td>\n",
       "    </tr>\n",
       "    <tr>\n",
       "      <th>1</th>\n",
       "      <td>Male</td>\n",
       "      <td>76</td>\n",
       "      <td>3.0</td>\n",
       "      <td>0</td>\n",
       "      <td>1-2 Year</td>\n",
       "      <td>No</td>\n",
       "      <td>33536.0</td>\n",
       "      <td>26.0</td>\n",
       "      <td>183</td>\n",
       "      <td>0</td>\n",
       "    </tr>\n",
       "    <tr>\n",
       "      <th>2</th>\n",
       "      <td>Male</td>\n",
       "      <td>47</td>\n",
       "      <td>28.0</td>\n",
       "      <td>0</td>\n",
       "      <td>&gt; 2 Years</td>\n",
       "      <td>Yes</td>\n",
       "      <td>38294.0</td>\n",
       "      <td>26.0</td>\n",
       "      <td>27</td>\n",
       "      <td>1</td>\n",
       "    </tr>\n",
       "    <tr>\n",
       "      <th>3</th>\n",
       "      <td>Male</td>\n",
       "      <td>21</td>\n",
       "      <td>11.0</td>\n",
       "      <td>1</td>\n",
       "      <td>&lt; 1 Year</td>\n",
       "      <td>No</td>\n",
       "      <td>28619.0</td>\n",
       "      <td>152.0</td>\n",
       "      <td>203</td>\n",
       "      <td>0</td>\n",
       "    </tr>\n",
       "    <tr>\n",
       "      <th>4</th>\n",
       "      <td>Female</td>\n",
       "      <td>29</td>\n",
       "      <td>41.0</td>\n",
       "      <td>1</td>\n",
       "      <td>&lt; 1 Year</td>\n",
       "      <td>No</td>\n",
       "      <td>27496.0</td>\n",
       "      <td>152.0</td>\n",
       "      <td>39</td>\n",
       "      <td>0</td>\n",
       "    </tr>\n",
       "  </tbody>\n",
       "</table>\n",
       "</div>"
      ],
      "text/plain": [
       "   Gender  Age  Region_Code  Previously_Insured Vehicle_Age Vehicle_Damage  \\\n",
       "0    Male   44         28.0                   0   > 2 Years            Yes   \n",
       "1    Male   76          3.0                   0    1-2 Year             No   \n",
       "2    Male   47         28.0                   0   > 2 Years            Yes   \n",
       "3    Male   21         11.0                   1    < 1 Year             No   \n",
       "4  Female   29         41.0                   1    < 1 Year             No   \n",
       "\n",
       "   Annual_Premium  Policy_Sales_Channel  Vintage  Response  \n",
       "0         40454.0                  26.0      217         1  \n",
       "1         33536.0                  26.0      183         0  \n",
       "2         38294.0                  26.0       27         1  \n",
       "3         28619.0                 152.0      203         0  \n",
       "4         27496.0                 152.0       39         0  "
      ]
     },
     "execution_count": 33,
     "metadata": {},
     "output_type": "execute_result"
    }
   ],
   "source": [
    "df_train.head()"
   ]
  },
  {
   "cell_type": "markdown",
   "metadata": {
    "papermill": {
     "duration": 0.072994,
     "end_time": "2020-10-08T09:19:04.851384",
     "exception": false,
     "start_time": "2020-10-08T09:19:04.778390",
     "status": "completed"
    },
    "tags": []
   },
   "source": [
    "As a first step, we should get all our data in numeric form."
   ]
  },
  {
   "cell_type": "code",
   "execution_count": 34,
   "metadata": {
    "execution": {
     "iopub.execute_input": "2020-10-08T09:19:05.019783Z",
     "iopub.status.busy": "2020-10-08T09:19:05.018497Z",
     "iopub.status.idle": "2020-10-08T09:19:05.220128Z",
     "shell.execute_reply": "2020-10-08T09:19:05.219257Z"
    },
    "papermill": {
     "duration": 0.295144,
     "end_time": "2020-10-08T09:19:05.220277",
     "exception": false,
     "start_time": "2020-10-08T09:19:04.925133",
     "status": "completed"
    },
    "tags": []
   },
   "outputs": [],
   "source": [
    "df_train['Gender'] = pd.Categorical(df_train['Gender'])\n",
    "df_train['Previously_Insured'] = pd.Categorical(df_train['Previously_Insured'])\n",
    "df_train['Vehicle_Age'] = pd.Categorical(df_train['Vehicle_Age'])\n",
    "df_train['Vehicle_Damage'] = pd.Categorical(df_train['Vehicle_Damage'])\n",
    "df_train['Response'] = pd.Categorical(df_train['Response'])\n",
    "df_train['Region_Code'] = pd.Categorical(df_train['Region_Code'])\n",
    "\n",
    "df_train = pd.concat([df_train[['Age', 'Annual_Premium', 'Policy_Sales_Channel', 'Vintage', 'Response']],\n",
    "           pd.get_dummies(df_train[['Gender', 'Previously_Insured', 'Vehicle_Age', 'Vehicle_Damage']])], axis=1)"
   ]
  },
  {
   "cell_type": "code",
   "execution_count": 35,
   "metadata": {
    "execution": {
     "iopub.execute_input": "2020-10-08T09:19:05.390238Z",
     "iopub.status.busy": "2020-10-08T09:19:05.389222Z",
     "iopub.status.idle": "2020-10-08T09:19:05.394039Z",
     "shell.execute_reply": "2020-10-08T09:19:05.394577Z"
    },
    "papermill": {
     "duration": 0.099143,
     "end_time": "2020-10-08T09:19:05.394762",
     "exception": false,
     "start_time": "2020-10-08T09:19:05.295619",
     "status": "completed"
    },
    "tags": []
   },
   "outputs": [
    {
     "data": {
      "text/html": [
       "<div>\n",
       "<style scoped>\n",
       "    .dataframe tbody tr th:only-of-type {\n",
       "        vertical-align: middle;\n",
       "    }\n",
       "\n",
       "    .dataframe tbody tr th {\n",
       "        vertical-align: top;\n",
       "    }\n",
       "\n",
       "    .dataframe thead th {\n",
       "        text-align: right;\n",
       "    }\n",
       "</style>\n",
       "<table border=\"1\" class=\"dataframe\">\n",
       "  <thead>\n",
       "    <tr style=\"text-align: right;\">\n",
       "      <th></th>\n",
       "      <th>Age</th>\n",
       "      <th>Annual_Premium</th>\n",
       "      <th>Policy_Sales_Channel</th>\n",
       "      <th>Vintage</th>\n",
       "      <th>Response</th>\n",
       "      <th>Gender_Female</th>\n",
       "      <th>Gender_Male</th>\n",
       "      <th>Previously_Insured_0</th>\n",
       "      <th>Previously_Insured_1</th>\n",
       "      <th>Vehicle_Age_1-2 Year</th>\n",
       "      <th>Vehicle_Age_&lt; 1 Year</th>\n",
       "      <th>Vehicle_Age_&gt; 2 Years</th>\n",
       "      <th>Vehicle_Damage_No</th>\n",
       "      <th>Vehicle_Damage_Yes</th>\n",
       "    </tr>\n",
       "  </thead>\n",
       "  <tbody>\n",
       "    <tr>\n",
       "      <th>0</th>\n",
       "      <td>44</td>\n",
       "      <td>40454.0</td>\n",
       "      <td>26.0</td>\n",
       "      <td>217</td>\n",
       "      <td>1</td>\n",
       "      <td>0</td>\n",
       "      <td>1</td>\n",
       "      <td>1</td>\n",
       "      <td>0</td>\n",
       "      <td>0</td>\n",
       "      <td>0</td>\n",
       "      <td>1</td>\n",
       "      <td>0</td>\n",
       "      <td>1</td>\n",
       "    </tr>\n",
       "    <tr>\n",
       "      <th>1</th>\n",
       "      <td>76</td>\n",
       "      <td>33536.0</td>\n",
       "      <td>26.0</td>\n",
       "      <td>183</td>\n",
       "      <td>0</td>\n",
       "      <td>0</td>\n",
       "      <td>1</td>\n",
       "      <td>1</td>\n",
       "      <td>0</td>\n",
       "      <td>1</td>\n",
       "      <td>0</td>\n",
       "      <td>0</td>\n",
       "      <td>1</td>\n",
       "      <td>0</td>\n",
       "    </tr>\n",
       "    <tr>\n",
       "      <th>2</th>\n",
       "      <td>47</td>\n",
       "      <td>38294.0</td>\n",
       "      <td>26.0</td>\n",
       "      <td>27</td>\n",
       "      <td>1</td>\n",
       "      <td>0</td>\n",
       "      <td>1</td>\n",
       "      <td>1</td>\n",
       "      <td>0</td>\n",
       "      <td>0</td>\n",
       "      <td>0</td>\n",
       "      <td>1</td>\n",
       "      <td>0</td>\n",
       "      <td>1</td>\n",
       "    </tr>\n",
       "    <tr>\n",
       "      <th>3</th>\n",
       "      <td>21</td>\n",
       "      <td>28619.0</td>\n",
       "      <td>152.0</td>\n",
       "      <td>203</td>\n",
       "      <td>0</td>\n",
       "      <td>0</td>\n",
       "      <td>1</td>\n",
       "      <td>0</td>\n",
       "      <td>1</td>\n",
       "      <td>0</td>\n",
       "      <td>1</td>\n",
       "      <td>0</td>\n",
       "      <td>1</td>\n",
       "      <td>0</td>\n",
       "    </tr>\n",
       "    <tr>\n",
       "      <th>4</th>\n",
       "      <td>29</td>\n",
       "      <td>27496.0</td>\n",
       "      <td>152.0</td>\n",
       "      <td>39</td>\n",
       "      <td>0</td>\n",
       "      <td>1</td>\n",
       "      <td>0</td>\n",
       "      <td>0</td>\n",
       "      <td>1</td>\n",
       "      <td>0</td>\n",
       "      <td>1</td>\n",
       "      <td>0</td>\n",
       "      <td>1</td>\n",
       "      <td>0</td>\n",
       "    </tr>\n",
       "  </tbody>\n",
       "</table>\n",
       "</div>"
      ],
      "text/plain": [
       "   Age  Annual_Premium  Policy_Sales_Channel  Vintage Response  Gender_Female  \\\n",
       "0   44         40454.0                  26.0      217        1              0   \n",
       "1   76         33536.0                  26.0      183        0              0   \n",
       "2   47         38294.0                  26.0       27        1              0   \n",
       "3   21         28619.0                 152.0      203        0              0   \n",
       "4   29         27496.0                 152.0       39        0              1   \n",
       "\n",
       "   Gender_Male  Previously_Insured_0  Previously_Insured_1  \\\n",
       "0            1                     1                     0   \n",
       "1            1                     1                     0   \n",
       "2            1                     1                     0   \n",
       "3            1                     0                     1   \n",
       "4            0                     0                     1   \n",
       "\n",
       "   Vehicle_Age_1-2 Year  Vehicle_Age_< 1 Year  Vehicle_Age_> 2 Years  \\\n",
       "0                     0                     0                      1   \n",
       "1                     1                     0                      0   \n",
       "2                     0                     0                      1   \n",
       "3                     0                     1                      0   \n",
       "4                     0                     1                      0   \n",
       "\n",
       "   Vehicle_Damage_No  Vehicle_Damage_Yes  \n",
       "0                  0                   1  \n",
       "1                  1                   0  \n",
       "2                  0                   1  \n",
       "3                  1                   0  \n",
       "4                  1                   0  "
      ]
     },
     "execution_count": 35,
     "metadata": {},
     "output_type": "execute_result"
    }
   ],
   "source": [
    "df_train.head()"
   ]
  },
  {
   "cell_type": "markdown",
   "metadata": {
    "papermill": {
     "duration": 0.074121,
     "end_time": "2020-10-08T09:19:05.543884",
     "exception": false,
     "start_time": "2020-10-08T09:19:05.469763",
     "status": "completed"
    },
    "tags": []
   },
   "source": [
    "Great! Now our data is in numeric form!"
   ]
  },
  {
   "cell_type": "markdown",
   "metadata": {
    "papermill": {
     "duration": 0.074507,
     "end_time": "2020-10-08T09:19:05.693180",
     "exception": false,
     "start_time": "2020-10-08T09:19:05.618673",
     "status": "completed"
    },
    "tags": []
   },
   "source": [
    "Now let's take a look at the correlation:"
   ]
  },
  {
   "cell_type": "code",
   "execution_count": 36,
   "metadata": {
    "execution": {
     "iopub.execute_input": "2020-10-08T09:19:05.856168Z",
     "iopub.status.busy": "2020-10-08T09:19:05.854216Z",
     "iopub.status.idle": "2020-10-08T09:19:07.315845Z",
     "shell.execute_reply": "2020-10-08T09:19:07.316464Z"
    },
    "papermill": {
     "duration": 1.547604,
     "end_time": "2020-10-08T09:19:07.316659",
     "exception": false,
     "start_time": "2020-10-08T09:19:05.769055",
     "status": "completed"
    },
    "tags": []
   },
   "outputs": [
    {
     "data": {
      "image/png": "[encoded data removed]",
      "text/plain": [
       "<Figure size 864x720 with 2 Axes>"
      ]
     },
     "metadata": {},
     "output_type": "display_data"
    }
   ],
   "source": [
    "#Using Pearson Correlation\n",
    "plt.figure(figsize=(12,10))\n",
    "cor = df_train.corr()\n",
    "sns.heatmap(cor, annot=True)\n",
    "plt.show()"
   ]
  },
  {
   "cell_type": "markdown",
   "metadata": {
    "papermill": {
     "duration": 0.07891,
     "end_time": "2020-10-08T09:19:07.475934",
     "exception": false,
     "start_time": "2020-10-08T09:19:07.397024",
     "status": "completed"
    },
    "tags": []
   },
   "source": [
    "# Modeling"
   ]
  },
  {
   "cell_type": "markdown",
   "metadata": {
    "papermill": {
     "duration": 0.078558,
     "end_time": "2020-10-08T09:19:07.634011",
     "exception": false,
     "start_time": "2020-10-08T09:19:07.555453",
     "status": "completed"
    },
    "tags": []
   },
   "source": [
    "Let's check the scores with all features:"
   ]
  },
  {
   "cell_type": "code",
   "execution_count": 37,
   "metadata": {
    "execution": {
     "iopub.execute_input": "2020-10-08T09:19:07.806333Z",
     "iopub.status.busy": "2020-10-08T09:19:07.805429Z",
     "iopub.status.idle": "2020-10-08T09:19:07.834019Z",
     "shell.execute_reply": "2020-10-08T09:19:07.833245Z"
    },
    "papermill": {
     "duration": 0.120569,
     "end_time": "2020-10-08T09:19:07.834166",
     "exception": false,
     "start_time": "2020-10-08T09:19:07.713597",
     "status": "completed"
    },
    "tags": []
   },
   "outputs": [],
   "source": [
    "X = df_train.drop([\"Response\"], axis=1).to_numpy()\n",
    "y = df_train['Response'].values"
   ]
  },
  {
   "cell_type": "code",
   "execution_count": 38,
   "metadata": {
    "execution": {
     "iopub.execute_input": "2020-10-08T09:19:08.010691Z",
     "iopub.status.busy": "2020-10-08T09:19:08.009157Z",
     "iopub.status.idle": "2020-10-08T09:31:59.679810Z",
     "shell.execute_reply": "2020-10-08T09:31:59.680459Z"
    },
    "papermill": {
     "duration": 771.767089,
     "end_time": "2020-10-08T09:31:59.680652",
     "exception": false,
     "start_time": "2020-10-08T09:19:07.913563",
     "status": "completed"
    },
    "tags": []
   },
   "outputs": [
    {
     "name": "stdout",
     "output_type": "stream",
     "text": [
      "Mean roc_auc_score Logistic Regression : 0.8228637770780433\n",
      "Mean roc_auc_score Random Forest : 0.8227868036074273\n",
      "Mean roc_auc_score GradientBoostingClassifier : 0.854707413585548\n"
     ]
    },
    {
     "data": {
      "image/png": "[encoded data removed]",
      "text/plain": [
       "<Figure size 432x288 with 1 Axes>"
      ]
     },
     "metadata": {},
     "output_type": "display_data"
    }
   ],
   "source": [
    "np.random.seed(42)\n",
    "\n",
    "# Defining a dictionary of models\n",
    "models = {\"Logistic Regression\": LogisticRegression(max_iter=10000), \n",
    "          \"Random Forest\": RandomForestClassifier(),\n",
    "          \"GradientBoostingClassifier\" : GradientBoostingClassifier()}\n",
    "\n",
    "\n",
    "# Initialize StratifiedKFold\n",
    "skf = StratifiedKFold(n_splits=5, shuffle=True)\n",
    "\n",
    "\n",
    "\n",
    "\n",
    "for name, model in models.items():\n",
    "    \n",
    "    # Create list for ROC AUC scores\n",
    "    roc_auc_score_list = []\n",
    "    \n",
    "    for train_index, test_index in skf.split(X,y):\n",
    "        X_train, X_test = X[train_index], X[test_index]\n",
    "        y_train, y_test = y[train_index], y[test_index]\n",
    "\n",
    "        model.fit(X_train, y_train)\n",
    "\n",
    "        roc_auc_score_list.append(roc_auc_score(y_test, model.predict_proba(X_test)[:, 1]))\n",
    "        fpr, tpr, _ = roc_curve(y_test, model.predict_proba(X_test)[:, 1])\n",
    "        plt.plot(fpr, tpr)\n",
    "\n",
    "        #print(f\"ROC AUC Score for the fold no. {i} on the test set: {roc_auc_score(y_test, model.predict_proba(X_test)[:, 1])}\")\n",
    "\n",
    "\n",
    "    print(f'Mean roc_auc_score {name} : {np.mean(roc_auc_score_list)}')"
   ]
  },
  {
   "cell_type": "markdown",
   "metadata": {
    "papermill": {
     "duration": 0.081115,
     "end_time": "2020-10-08T09:31:59.844746",
     "exception": false,
     "start_time": "2020-10-08T09:31:59.763631",
     "status": "completed"
    },
    "tags": []
   },
   "source": [
    "The `GradientBoostingClassifier()` gives us the best score with an average of `0.854707413585548`."
   ]
  },
  {
   "cell_type": "markdown",
   "metadata": {
    "papermill": {
     "duration": 0.084052,
     "end_time": "2020-10-08T09:32:00.010519",
     "exception": false,
     "start_time": "2020-10-08T09:31:59.926467",
     "status": "completed"
    },
    "tags": []
   },
   "source": [
    "**If you liked this notebook or found it helpful in any way, feel free to leave an upvote - That will keep me motivated :)**\n",
    "\n",
    "**If you have any suggestions for improvement, leave a comment :)**"
   ]
  }
 ],
 "metadata": {
  "kernelspec": {
   "display_name": "Python 3",
   "language": "python",
   "name": "python3"
  },
  "language_info": {
   "codemirror_mode": {
    "name": "ipython",
    "version": 3
   },
   "file_extension": ".py",
   "mimetype": "text/x-python",
   "name": "python",
   "nbconvert_exporter": "python",
   "pygments_lexer": "ipython3",
   "version": "3.7.6"
  },
  "papermill": {
   "duration": 795.543799,
   "end_time": "2020-10-08T09:32:00.209173",
   "environment_variables": {},
   "exception": null,
   "input_path": "__notebook__.ipynb",
   "output_path": "__notebook__.ipynb",
   "parameters": {},
   "start_time": "2020-10-08T09:18:44.665374",
   "version": "2.1.0"
  }
 },
 "nbformat": 4,
 "nbformat_minor": 4
}
